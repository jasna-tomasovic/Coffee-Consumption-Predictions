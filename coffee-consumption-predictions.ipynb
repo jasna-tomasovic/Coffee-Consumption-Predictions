{
 "cells": [
  {
   "cell_type": "code",
   "execution_count": 1,
   "id": "b6ff01b9",
   "metadata": {
    "_cell_guid": "b1076dfc-b9ad-4769-8c92-a6c4dae69d19",
    "_uuid": "8f2839f25d086af736a60e9eeb907d3b93b6e0e5",
    "execution": {
     "iopub.execute_input": "2024-08-15T12:20:41.841799Z",
     "iopub.status.busy": "2024-08-15T12:20:41.841372Z",
     "iopub.status.idle": "2024-08-15T12:20:42.745145Z",
     "shell.execute_reply": "2024-08-15T12:20:42.743670Z"
    },
    "papermill": {
     "duration": 0.917223,
     "end_time": "2024-08-15T12:20:42.747953",
     "exception": false,
     "start_time": "2024-08-15T12:20:41.830730",
     "status": "completed"
    },
    "tags": []
   },
   "outputs": [
    {
     "name": "stdout",
     "output_type": "stream",
     "text": [
      "/kaggle/input/coffee-sales/index.csv\n"
     ]
    }
   ],
   "source": [
    "# This Python 3 environment comes with many helpful analytics libraries installed\n",
    "# It is defined by the kaggle/python Docker image: https://github.com/kaggle/docker-python\n",
    "# For example, here's several helpful packages to load\n",
    "\n",
    "import numpy as np # linear algebra\n",
    "import pandas as pd # data processing, CSV file I/O (e.g. pd.read_csv)\n",
    "\n",
    "# Input data files are available in the read-only \"../input/\" directory\n",
    "# For example, running this (by clicking run or pressing Shift+Enter) will list all files under the input directory\n",
    "\n",
    "import os\n",
    "for dirname, _, filenames in os.walk('/kaggle/input'):\n",
    "    for filename in filenames:\n",
    "        print(os.path.join(dirname, filename))\n",
    "\n",
    "# You can write up to 20GB to the current directory (/kaggle/working/) that gets preserved as output when you create a version using \"Save & Run All\" \n",
    "# You can also write temporary files to /kaggle/temp/, but they won't be saved outside of the current session"
   ]
  },
  {
   "cell_type": "markdown",
   "id": "92d2285d",
   "metadata": {
    "papermill": {
     "duration": 0.007961,
     "end_time": "2024-08-15T12:20:42.764304",
     "exception": false,
     "start_time": "2024-08-15T12:20:42.756343",
     "status": "completed"
    },
    "tags": []
   },
   "source": [
    "# Imports"
   ]
  },
  {
   "cell_type": "code",
   "execution_count": 2,
   "id": "ca253110",
   "metadata": {
    "execution": {
     "iopub.execute_input": "2024-08-15T12:20:42.783215Z",
     "iopub.status.busy": "2024-08-15T12:20:42.782178Z",
     "iopub.status.idle": "2024-08-15T12:20:44.175382Z",
     "shell.execute_reply": "2024-08-15T12:20:44.174148Z"
    },
    "papermill": {
     "duration": 1.405495,
     "end_time": "2024-08-15T12:20:44.178105",
     "exception": false,
     "start_time": "2024-08-15T12:20:42.772610",
     "status": "completed"
    },
    "tags": []
   },
   "outputs": [],
   "source": [
    "import pandas as pd\n",
    "import numpy as np\n",
    "import seaborn as sns\n",
    "import matplotlib.pyplot as plt\n",
    "%matplotlib inline"
   ]
  },
  {
   "cell_type": "code",
   "execution_count": 3,
   "id": "ae132bbb",
   "metadata": {
    "execution": {
     "iopub.execute_input": "2024-08-15T12:20:44.197062Z",
     "iopub.status.busy": "2024-08-15T12:20:44.196618Z",
     "iopub.status.idle": "2024-08-15T12:20:44.224781Z",
     "shell.execute_reply": "2024-08-15T12:20:44.223562Z"
    },
    "papermill": {
     "duration": 0.040999,
     "end_time": "2024-08-15T12:20:44.227709",
     "exception": false,
     "start_time": "2024-08-15T12:20:44.186710",
     "status": "completed"
    },
    "tags": []
   },
   "outputs": [],
   "source": [
    "coffee = pd.read_csv('/kaggle/input/coffee-sales/index.csv')"
   ]
  },
  {
   "cell_type": "markdown",
   "id": "dbaba092",
   "metadata": {
    "papermill": {
     "duration": 0.008015,
     "end_time": "2024-08-15T12:20:44.244018",
     "exception": false,
     "start_time": "2024-08-15T12:20:44.236003",
     "status": "completed"
    },
    "tags": []
   },
   "source": [
    "# Data Preprocessing"
   ]
  },
  {
   "cell_type": "code",
   "execution_count": 4,
   "id": "b5a37da0",
   "metadata": {
    "execution": {
     "iopub.execute_input": "2024-08-15T12:20:44.262366Z",
     "iopub.status.busy": "2024-08-15T12:20:44.261971Z",
     "iopub.status.idle": "2024-08-15T12:20:44.296204Z",
     "shell.execute_reply": "2024-08-15T12:20:44.294823Z"
    },
    "papermill": {
     "duration": 0.047088,
     "end_time": "2024-08-15T12:20:44.299323",
     "exception": false,
     "start_time": "2024-08-15T12:20:44.252235",
     "status": "completed"
    },
    "tags": []
   },
   "outputs": [],
   "source": [
    "# Date and time\n",
    "coffee['datetime'] = pd.to_datetime(coffee['datetime'])\n",
    "coffee['month'] = coffee['datetime'].apply(lambda date: date.month)\n",
    "coffee['day'] = coffee['datetime'].apply(lambda date: date.day)\n",
    "coffee['hour'] = coffee['datetime'].apply(lambda date: date.hour)\n",
    "coffee['day of week'] = coffee['datetime'].dt.day_name()"
   ]
  },
  {
   "cell_type": "code",
   "execution_count": 5,
   "id": "ce0b6e85",
   "metadata": {
    "execution": {
     "iopub.execute_input": "2024-08-15T12:20:44.318005Z",
     "iopub.status.busy": "2024-08-15T12:20:44.317575Z",
     "iopub.status.idle": "2024-08-15T12:20:44.372656Z",
     "shell.execute_reply": "2024-08-15T12:20:44.371444Z"
    },
    "papermill": {
     "duration": 0.067515,
     "end_time": "2024-08-15T12:20:44.375267",
     "exception": false,
     "start_time": "2024-08-15T12:20:44.307752",
     "status": "completed"
    },
    "tags": []
   },
   "outputs": [
    {
     "data": {
      "text/html": [
       "<div>\n",
       "<style scoped>\n",
       "    .dataframe tbody tr th:only-of-type {\n",
       "        vertical-align: middle;\n",
       "    }\n",
       "\n",
       "    .dataframe tbody tr th {\n",
       "        vertical-align: top;\n",
       "    }\n",
       "\n",
       "    .dataframe thead th {\n",
       "        text-align: right;\n",
       "    }\n",
       "</style>\n",
       "<table border=\"1\" class=\"dataframe\">\n",
       "  <thead>\n",
       "    <tr style=\"text-align: right;\">\n",
       "      <th></th>\n",
       "      <th>date</th>\n",
       "      <th>datetime</th>\n",
       "      <th>cash_type</th>\n",
       "      <th>card</th>\n",
       "      <th>money</th>\n",
       "      <th>coffee_name</th>\n",
       "      <th>month</th>\n",
       "      <th>day</th>\n",
       "      <th>hour</th>\n",
       "      <th>day of week</th>\n",
       "      <th>coffee</th>\n",
       "      <th>milk powder</th>\n",
       "      <th>hot chocolate</th>\n",
       "      <th>cocoa powder</th>\n",
       "    </tr>\n",
       "  </thead>\n",
       "  <tbody>\n",
       "    <tr>\n",
       "      <th>0</th>\n",
       "      <td>2024-03-01</td>\n",
       "      <td>2024-03-01 10:15:50.520</td>\n",
       "      <td>card</td>\n",
       "      <td>ANON-0000-0000-0001</td>\n",
       "      <td>38.7</td>\n",
       "      <td>Latte</td>\n",
       "      <td>3</td>\n",
       "      <td>1</td>\n",
       "      <td>10</td>\n",
       "      <td>Friday</td>\n",
       "      <td>1.0</td>\n",
       "      <td>4.0</td>\n",
       "      <td>0.0</td>\n",
       "      <td>0.0</td>\n",
       "    </tr>\n",
       "    <tr>\n",
       "      <th>1</th>\n",
       "      <td>2024-03-01</td>\n",
       "      <td>2024-03-01 12:19:22.539</td>\n",
       "      <td>card</td>\n",
       "      <td>ANON-0000-0000-0002</td>\n",
       "      <td>38.7</td>\n",
       "      <td>Hot Chocolate</td>\n",
       "      <td>3</td>\n",
       "      <td>1</td>\n",
       "      <td>12</td>\n",
       "      <td>Friday</td>\n",
       "      <td>0.0</td>\n",
       "      <td>4.0</td>\n",
       "      <td>1.0</td>\n",
       "      <td>0.0</td>\n",
       "    </tr>\n",
       "    <tr>\n",
       "      <th>2</th>\n",
       "      <td>2024-03-01</td>\n",
       "      <td>2024-03-01 12:20:18.089</td>\n",
       "      <td>card</td>\n",
       "      <td>ANON-0000-0000-0002</td>\n",
       "      <td>38.7</td>\n",
       "      <td>Hot Chocolate</td>\n",
       "      <td>3</td>\n",
       "      <td>1</td>\n",
       "      <td>12</td>\n",
       "      <td>Friday</td>\n",
       "      <td>0.0</td>\n",
       "      <td>4.0</td>\n",
       "      <td>1.0</td>\n",
       "      <td>0.0</td>\n",
       "    </tr>\n",
       "    <tr>\n",
       "      <th>3</th>\n",
       "      <td>2024-03-01</td>\n",
       "      <td>2024-03-01 13:46:33.006</td>\n",
       "      <td>card</td>\n",
       "      <td>ANON-0000-0000-0003</td>\n",
       "      <td>28.9</td>\n",
       "      <td>Americano</td>\n",
       "      <td>3</td>\n",
       "      <td>1</td>\n",
       "      <td>13</td>\n",
       "      <td>Friday</td>\n",
       "      <td>1.0</td>\n",
       "      <td>0.0</td>\n",
       "      <td>0.0</td>\n",
       "      <td>0.0</td>\n",
       "    </tr>\n",
       "    <tr>\n",
       "      <th>4</th>\n",
       "      <td>2024-03-01</td>\n",
       "      <td>2024-03-01 13:48:14.626</td>\n",
       "      <td>card</td>\n",
       "      <td>ANON-0000-0000-0004</td>\n",
       "      <td>38.7</td>\n",
       "      <td>Latte</td>\n",
       "      <td>3</td>\n",
       "      <td>1</td>\n",
       "      <td>13</td>\n",
       "      <td>Friday</td>\n",
       "      <td>1.0</td>\n",
       "      <td>4.0</td>\n",
       "      <td>0.0</td>\n",
       "      <td>0.0</td>\n",
       "    </tr>\n",
       "  </tbody>\n",
       "</table>\n",
       "</div>"
      ],
      "text/plain": [
       "         date                datetime cash_type                 card  money  \\\n",
       "0  2024-03-01 2024-03-01 10:15:50.520      card  ANON-0000-0000-0001   38.7   \n",
       "1  2024-03-01 2024-03-01 12:19:22.539      card  ANON-0000-0000-0002   38.7   \n",
       "2  2024-03-01 2024-03-01 12:20:18.089      card  ANON-0000-0000-0002   38.7   \n",
       "3  2024-03-01 2024-03-01 13:46:33.006      card  ANON-0000-0000-0003   28.9   \n",
       "4  2024-03-01 2024-03-01 13:48:14.626      card  ANON-0000-0000-0004   38.7   \n",
       "\n",
       "     coffee_name  month  day  hour day of week  coffee  milk powder  \\\n",
       "0          Latte      3    1    10      Friday     1.0          4.0   \n",
       "1  Hot Chocolate      3    1    12      Friday     0.0          4.0   \n",
       "2  Hot Chocolate      3    1    12      Friday     0.0          4.0   \n",
       "3      Americano      3    1    13      Friday     1.0          0.0   \n",
       "4          Latte      3    1    13      Friday     1.0          4.0   \n",
       "\n",
       "   hot chocolate  cocoa powder  \n",
       "0            0.0           0.0  \n",
       "1            1.0           0.0  \n",
       "2            1.0           0.0  \n",
       "3            0.0           0.0  \n",
       "4            0.0           0.0  "
      ]
     },
     "execution_count": 5,
     "metadata": {},
     "output_type": "execute_result"
    }
   ],
   "source": [
    "# Adding vending machine ingredients\n",
    "coffee['coffee'] = np.zeros(len(coffee))\n",
    "coffee['milk powder'] = np.zeros(len(coffee))\n",
    "coffee['hot chocolate'] = np.zeros(len(coffee))\n",
    "coffee['cocoa powder'] = np.zeros(len(coffee))\n",
    "\n",
    "coffee.loc[coffee['coffee_name'] == 'Americano', 'coffee'] = 1\n",
    "coffee.loc[coffee['coffee_name'] == 'Americano with Milk', ['coffee', 'milk powder']] = [1, 1]\n",
    "coffee.loc[coffee['coffee_name'] == 'Latte', ['coffee', 'milk powder']] = [1, 4]\n",
    "coffee.loc[coffee['coffee_name'] == 'Cappuccino', ['coffee', 'milk powder']] = [1, 2]\n",
    "coffee.loc[coffee['coffee_name'] == 'Cortado', ['coffee', 'milk powder']] = [1, 1]\n",
    "coffee.loc[coffee['coffee_name'] == 'Hot Chocolate', ['hot chocolate', 'milk powder']] = [1, 4]\n",
    "coffee.loc[coffee['coffee_name'] == 'Espresso', 'coffee'] = 1\n",
    "coffee.loc[coffee['coffee_name'] == 'Cocoa', ['cocoa powder', 'milk powder']] = [1, 4]\n",
    "\n",
    "coffee.head() "
   ]
  },
  {
   "cell_type": "code",
   "execution_count": 6,
   "id": "b4444533",
   "metadata": {
    "execution": {
     "iopub.execute_input": "2024-08-15T12:20:44.394988Z",
     "iopub.status.busy": "2024-08-15T12:20:44.394502Z",
     "iopub.status.idle": "2024-08-15T12:20:44.408740Z",
     "shell.execute_reply": "2024-08-15T12:20:44.407635Z"
    },
    "papermill": {
     "duration": 0.027716,
     "end_time": "2024-08-15T12:20:44.411447",
     "exception": false,
     "start_time": "2024-08-15T12:20:44.383731",
     "status": "completed"
    },
    "tags": []
   },
   "outputs": [],
   "source": [
    "# Creating dummies for types of coffee\n",
    "coffee_type = pd.get_dummies(coffee['coffee_name'], dtype=float, drop_first=True)\n",
    "\n",
    "coffee = pd.concat([coffee, coffee_type], axis=1)"
   ]
  },
  {
   "cell_type": "markdown",
   "id": "63abcd7a",
   "metadata": {
    "papermill": {
     "duration": 0.008307,
     "end_time": "2024-08-15T12:20:44.428522",
     "exception": false,
     "start_time": "2024-08-15T12:20:44.420215",
     "status": "completed"
    },
    "tags": []
   },
   "source": [
    "# Model to predict ingredient consumption"
   ]
  },
  {
   "cell_type": "markdown",
   "id": "73884625",
   "metadata": {
    "papermill": {
     "duration": 0.009039,
     "end_time": "2024-08-15T12:20:44.446306",
     "exception": false,
     "start_time": "2024-08-15T12:20:44.437267",
     "status": "completed"
    },
    "tags": []
   },
   "source": [
    "I'm predicting coffee consumption so the company knows when to refill the vending machine (and how much coffee they need to order for the next month). It should be done for every ingredient."
   ]
  },
  {
   "cell_type": "code",
   "execution_count": 7,
   "id": "ea38f7f2",
   "metadata": {
    "_kg_hide-output": true,
    "collapsed": true,
    "execution": {
     "iopub.execute_input": "2024-08-15T12:20:44.465479Z",
     "iopub.status.busy": "2024-08-15T12:20:44.465045Z",
     "iopub.status.idle": "2024-08-15T12:21:38.654282Z",
     "shell.execute_reply": "2024-08-15T12:21:38.652733Z"
    },
    "jupyter": {
     "outputs_hidden": true
    },
    "papermill": {
     "duration": 54.202358,
     "end_time": "2024-08-15T12:21:38.657409",
     "exception": false,
     "start_time": "2024-08-15T12:20:44.455051",
     "status": "completed"
    },
    "tags": []
   },
   "outputs": [
    {
     "name": "stdout",
     "output_type": "stream",
     "text": [
      "Collecting pycaret\r\n",
      "  Downloading pycaret-3.3.2-py3-none-any.whl.metadata (17 kB)\r\n",
      "Requirement already satisfied: ipython>=5.5.0 in /opt/conda/lib/python3.10/site-packages (from pycaret) (8.20.0)\r\n",
      "Requirement already satisfied: ipywidgets>=7.6.5 in /opt/conda/lib/python3.10/site-packages (from pycaret) (7.7.1)\r\n",
      "Requirement already satisfied: tqdm>=4.62.0 in /opt/conda/lib/python3.10/site-packages (from pycaret) (4.66.4)\r\n",
      "Requirement already satisfied: numpy<1.27,>=1.21 in /opt/conda/lib/python3.10/site-packages (from pycaret) (1.26.4)\r\n",
      "Collecting pandas<2.2.0 (from pycaret)\r\n",
      "  Downloading pandas-2.1.4-cp310-cp310-manylinux_2_17_x86_64.manylinux2014_x86_64.whl.metadata (18 kB)\r\n",
      "Requirement already satisfied: jinja2>=3 in /opt/conda/lib/python3.10/site-packages (from pycaret) (3.1.2)\r\n",
      "Requirement already satisfied: scipy<=1.11.4,>=1.6.1 in /opt/conda/lib/python3.10/site-packages (from pycaret) (1.11.4)\r\n",
      "Collecting joblib<1.4,>=1.2.0 (from pycaret)\r\n",
      "  Downloading joblib-1.3.2-py3-none-any.whl.metadata (5.4 kB)\r\n",
      "Collecting scikit-learn>1.4.0 (from pycaret)\r\n",
      "  Downloading scikit_learn-1.5.1-cp310-cp310-manylinux_2_17_x86_64.manylinux2014_x86_64.whl.metadata (12 kB)\r\n",
      "Collecting pyod>=1.1.3 (from pycaret)\r\n",
      "  Downloading pyod-2.0.1.tar.gz (163 kB)\r\n",
      "\u001b[2K     \u001b[90m━━━━━━━━━━━━━━━━━━━━━━━━━━━━━━━━━━━━━━━\u001b[0m \u001b[32m163.8/163.8 kB\u001b[0m \u001b[31m1.6 MB/s\u001b[0m eta \u001b[36m0:00:00\u001b[0m\r\n",
      "\u001b[?25h  Preparing metadata (setup.py) ... \u001b[?25l-\b \b\\\b \b|\b \b/\b \bdone\r\n",
      "\u001b[?25hRequirement already satisfied: imbalanced-learn>=0.12.0 in /opt/conda/lib/python3.10/site-packages (from pycaret) (0.12.3)\r\n",
      "Requirement already satisfied: category-encoders>=2.4.0 in /opt/conda/lib/python3.10/site-packages (from pycaret) (2.6.3)\r\n",
      "Requirement already satisfied: lightgbm>=3.0.0 in /opt/conda/lib/python3.10/site-packages (from pycaret) (4.2.0)\r\n",
      "Requirement already satisfied: numba>=0.55.0 in /opt/conda/lib/python3.10/site-packages (from pycaret) (0.58.1)\r\n",
      "Requirement already satisfied: requests>=2.27.1 in /opt/conda/lib/python3.10/site-packages (from pycaret) (2.32.3)\r\n",
      "Requirement already satisfied: psutil>=5.9.0 in /opt/conda/lib/python3.10/site-packages (from pycaret) (5.9.3)\r\n",
      "Requirement already satisfied: markupsafe>=2.0.1 in /opt/conda/lib/python3.10/site-packages (from pycaret) (2.1.3)\r\n",
      "Requirement already satisfied: importlib-metadata>=4.12.0 in /opt/conda/lib/python3.10/site-packages (from pycaret) (6.11.0)\r\n",
      "Requirement already satisfied: nbformat>=4.2.0 in /opt/conda/lib/python3.10/site-packages (from pycaret) (5.9.2)\r\n",
      "Requirement already satisfied: cloudpickle in /opt/conda/lib/python3.10/site-packages (from pycaret) (2.2.1)\r\n",
      "Requirement already satisfied: deprecation>=2.1.0 in /opt/conda/lib/python3.10/site-packages (from pycaret) (2.1.0)\r\n",
      "Requirement already satisfied: xxhash in /opt/conda/lib/python3.10/site-packages (from pycaret) (3.4.1)\r\n",
      "Requirement already satisfied: matplotlib<3.8.0 in /opt/conda/lib/python3.10/site-packages (from pycaret) (3.7.5)\r\n",
      "Requirement already satisfied: scikit-plot>=0.3.7 in /opt/conda/lib/python3.10/site-packages (from pycaret) (0.3.7)\r\n",
      "Requirement already satisfied: yellowbrick>=1.4 in /opt/conda/lib/python3.10/site-packages (from pycaret) (1.5)\r\n",
      "Requirement already satisfied: plotly>=5.14.0 in /opt/conda/lib/python3.10/site-packages (from pycaret) (5.18.0)\r\n",
      "Collecting kaleido>=0.2.1 (from pycaret)\r\n",
      "  Downloading kaleido-0.2.1-py2.py3-none-manylinux1_x86_64.whl.metadata (15 kB)\r\n",
      "Collecting schemdraw==0.15 (from pycaret)\r\n",
      "  Downloading schemdraw-0.15-py3-none-any.whl.metadata (2.2 kB)\r\n",
      "Collecting plotly-resampler>=0.8.3.1 (from pycaret)\r\n",
      "  Downloading plotly_resampler-0.10.0-py3-none-any.whl.metadata (13 kB)\r\n",
      "Requirement already satisfied: statsmodels>=0.12.1 in /opt/conda/lib/python3.10/site-packages (from pycaret) (0.14.1)\r\n",
      "Collecting sktime==0.26.0 (from pycaret)\r\n",
      "  Downloading sktime-0.26.0-py3-none-any.whl.metadata (29 kB)\r\n",
      "Collecting tbats>=1.1.3 (from pycaret)\r\n",
      "  Downloading tbats-1.1.3-py3-none-any.whl.metadata (3.8 kB)\r\n",
      "Collecting pmdarima>=2.0.4 (from pycaret)\r\n",
      "  Downloading pmdarima-2.0.4-cp310-cp310-manylinux_2_17_x86_64.manylinux2014_x86_64.manylinux_2_28_x86_64.whl.metadata (7.8 kB)\r\n",
      "Collecting wurlitzer (from pycaret)\r\n",
      "  Downloading wurlitzer-3.1.1-py3-none-any.whl.metadata (2.5 kB)\r\n",
      "Requirement already satisfied: packaging in /opt/conda/lib/python3.10/site-packages (from sktime==0.26.0->pycaret) (21.3)\r\n",
      "Collecting scikit-base<0.8.0 (from sktime==0.26.0->pycaret)\r\n",
      "  Downloading scikit_base-0.7.8-py3-none-any.whl.metadata (8.8 kB)\r\n",
      "Collecting scikit-learn>1.4.0 (from pycaret)\r\n",
      "  Downloading scikit_learn-1.4.2-cp310-cp310-manylinux_2_17_x86_64.manylinux2014_x86_64.whl.metadata (11 kB)\r\n",
      "Requirement already satisfied: patsy>=0.5.1 in /opt/conda/lib/python3.10/site-packages (from category-encoders>=2.4.0->pycaret) (0.5.6)\r\n",
      "Requirement already satisfied: threadpoolctl>=2.0.0 in /opt/conda/lib/python3.10/site-packages (from imbalanced-learn>=0.12.0->pycaret) (3.2.0)\r\n",
      "Requirement already satisfied: zipp>=0.5 in /opt/conda/lib/python3.10/site-packages (from importlib-metadata>=4.12.0->pycaret) (3.17.0)\r\n",
      "Requirement already satisfied: decorator in /opt/conda/lib/python3.10/site-packages (from ipython>=5.5.0->pycaret) (5.1.1)\r\n",
      "Requirement already satisfied: jedi>=0.16 in /opt/conda/lib/python3.10/site-packages (from ipython>=5.5.0->pycaret) (0.19.1)\r\n",
      "Requirement already satisfied: matplotlib-inline in /opt/conda/lib/python3.10/site-packages (from ipython>=5.5.0->pycaret) (0.1.6)\r\n",
      "Requirement already satisfied: prompt-toolkit<3.1.0,>=3.0.41 in /opt/conda/lib/python3.10/site-packages (from ipython>=5.5.0->pycaret) (3.0.42)\r\n",
      "Requirement already satisfied: pygments>=2.4.0 in /opt/conda/lib/python3.10/site-packages (from ipython>=5.5.0->pycaret) (2.17.2)\r\n",
      "Requirement already satisfied: stack-data in /opt/conda/lib/python3.10/site-packages (from ipython>=5.5.0->pycaret) (0.6.2)\r\n",
      "Requirement already satisfied: traitlets>=5 in /opt/conda/lib/python3.10/site-packages (from ipython>=5.5.0->pycaret) (5.9.0)\r\n",
      "Requirement already satisfied: exceptiongroup in /opt/conda/lib/python3.10/site-packages (from ipython>=5.5.0->pycaret) (1.2.0)\r\n",
      "Requirement already satisfied: pexpect>4.3 in /opt/conda/lib/python3.10/site-packages (from ipython>=5.5.0->pycaret) (4.8.0)\r\n",
      "Requirement already satisfied: ipykernel>=4.5.1 in /opt/conda/lib/python3.10/site-packages (from ipywidgets>=7.6.5->pycaret) (6.28.0)\r\n",
      "Requirement already satisfied: ipython-genutils~=0.2.0 in /opt/conda/lib/python3.10/site-packages (from ipywidgets>=7.6.5->pycaret) (0.2.0)\r\n",
      "Requirement already satisfied: widgetsnbextension~=3.6.0 in /opt/conda/lib/python3.10/site-packages (from ipywidgets>=7.6.5->pycaret) (3.6.7)\r\n",
      "Requirement already satisfied: jupyterlab-widgets>=1.0.0 in /opt/conda/lib/python3.10/site-packages (from ipywidgets>=7.6.5->pycaret) (3.0.9)\r\n",
      "Requirement already satisfied: contourpy>=1.0.1 in /opt/conda/lib/python3.10/site-packages (from matplotlib<3.8.0->pycaret) (1.2.0)\r\n",
      "Requirement already satisfied: cycler>=0.10 in /opt/conda/lib/python3.10/site-packages (from matplotlib<3.8.0->pycaret) (0.12.1)\r\n",
      "Requirement already satisfied: fonttools>=4.22.0 in /opt/conda/lib/python3.10/site-packages (from matplotlib<3.8.0->pycaret) (4.47.0)\r\n",
      "Requirement already satisfied: kiwisolver>=1.0.1 in /opt/conda/lib/python3.10/site-packages (from matplotlib<3.8.0->pycaret) (1.4.5)\r\n",
      "Requirement already satisfied: pillow>=6.2.0 in /opt/conda/lib/python3.10/site-packages (from matplotlib<3.8.0->pycaret) (9.5.0)\r\n",
      "Requirement already satisfied: pyparsing>=2.3.1 in /opt/conda/lib/python3.10/site-packages (from matplotlib<3.8.0->pycaret) (3.1.1)\r\n",
      "Requirement already satisfied: python-dateutil>=2.7 in /opt/conda/lib/python3.10/site-packages (from matplotlib<3.8.0->pycaret) (2.9.0.post0)\r\n",
      "Requirement already satisfied: fastjsonschema in /opt/conda/lib/python3.10/site-packages (from nbformat>=4.2.0->pycaret) (2.19.1)\r\n",
      "Requirement already satisfied: jsonschema>=2.6 in /opt/conda/lib/python3.10/site-packages (from nbformat>=4.2.0->pycaret) (4.20.0)\r\n",
      "Requirement already satisfied: jupyter-core in /opt/conda/lib/python3.10/site-packages (from nbformat>=4.2.0->pycaret) (5.7.1)\r\n",
      "Requirement already satisfied: llvmlite<0.42,>=0.41.0dev0 in /opt/conda/lib/python3.10/site-packages (from numba>=0.55.0->pycaret) (0.41.1)\r\n",
      "Requirement already satisfied: pytz>=2020.1 in /opt/conda/lib/python3.10/site-packages (from pandas<2.2.0->pycaret) (2023.3.post1)\r\n",
      "Requirement already satisfied: tzdata>=2022.1 in /opt/conda/lib/python3.10/site-packages (from pandas<2.2.0->pycaret) (2023.4)\r\n",
      "Requirement already satisfied: tenacity>=6.2.0 in /opt/conda/lib/python3.10/site-packages (from plotly>=5.14.0->pycaret) (8.2.3)\r\n",
      "Collecting dash>=2.9.0 (from plotly-resampler>=0.8.3.1->pycaret)\r\n",
      "  Downloading dash-2.17.1-py3-none-any.whl.metadata (10 kB)\r\n",
      "Requirement already satisfied: orjson<4.0.0,>=3.8.0 in /opt/conda/lib/python3.10/site-packages (from plotly-resampler>=0.8.3.1->pycaret) (3.9.10)\r\n",
      "Collecting tsdownsample>=0.1.3 (from plotly-resampler>=0.8.3.1->pycaret)\r\n",
      "  Downloading tsdownsample-0.1.3-cp310-cp310-manylinux_2_17_x86_64.manylinux2014_x86_64.whl.metadata (7.9 kB)\r\n",
      "Requirement already satisfied: Cython!=0.29.18,!=0.29.31,>=0.29 in /opt/conda/lib/python3.10/site-packages (from pmdarima>=2.0.4->pycaret) (3.0.8)\r\n",
      "Requirement already satisfied: urllib3 in /opt/conda/lib/python3.10/site-packages (from pmdarima>=2.0.4->pycaret) (1.26.18)\r\n",
      "Requirement already satisfied: setuptools!=50.0.0,>=38.6.0 in /opt/conda/lib/python3.10/site-packages (from pmdarima>=2.0.4->pycaret) (69.0.3)\r\n",
      "Requirement already satisfied: charset-normalizer<4,>=2 in /opt/conda/lib/python3.10/site-packages (from requests>=2.27.1->pycaret) (3.3.2)\r\n",
      "Requirement already satisfied: idna<4,>=2.5 in /opt/conda/lib/python3.10/site-packages (from requests>=2.27.1->pycaret) (3.6)\r\n",
      "Requirement already satisfied: certifi>=2017.4.17 in /opt/conda/lib/python3.10/site-packages (from requests>=2.27.1->pycaret) (2024.7.4)\r\n",
      "Requirement already satisfied: Flask<3.1,>=1.0.4 in /opt/conda/lib/python3.10/site-packages (from dash>=2.9.0->plotly-resampler>=0.8.3.1->pycaret) (3.0.3)\r\n",
      "Requirement already satisfied: Werkzeug<3.1 in /opt/conda/lib/python3.10/site-packages (from dash>=2.9.0->plotly-resampler>=0.8.3.1->pycaret) (3.0.3)\r\n",
      "Collecting dash-html-components==2.0.0 (from dash>=2.9.0->plotly-resampler>=0.8.3.1->pycaret)\r\n",
      "  Downloading dash_html_components-2.0.0-py3-none-any.whl.metadata (3.8 kB)\r\n",
      "Collecting dash-core-components==2.0.0 (from dash>=2.9.0->plotly-resampler>=0.8.3.1->pycaret)\r\n",
      "  Downloading dash_core_components-2.0.0-py3-none-any.whl.metadata (2.9 kB)\r\n",
      "Collecting dash-table==5.0.0 (from dash>=2.9.0->plotly-resampler>=0.8.3.1->pycaret)\r\n",
      "  Downloading dash_table-5.0.0-py3-none-any.whl.metadata (2.4 kB)\r\n",
      "Requirement already satisfied: typing-extensions>=4.1.1 in /opt/conda/lib/python3.10/site-packages (from dash>=2.9.0->plotly-resampler>=0.8.3.1->pycaret) (4.9.0)\r\n",
      "Requirement already satisfied: retrying in /opt/conda/lib/python3.10/site-packages (from dash>=2.9.0->plotly-resampler>=0.8.3.1->pycaret) (1.3.3)\r\n",
      "Requirement already satisfied: nest-asyncio in /opt/conda/lib/python3.10/site-packages (from dash>=2.9.0->plotly-resampler>=0.8.3.1->pycaret) (1.5.8)\r\n",
      "Requirement already satisfied: comm>=0.1.1 in /opt/conda/lib/python3.10/site-packages (from ipykernel>=4.5.1->ipywidgets>=7.6.5->pycaret) (0.2.1)\r\n",
      "Requirement already satisfied: debugpy>=1.6.5 in /opt/conda/lib/python3.10/site-packages (from ipykernel>=4.5.1->ipywidgets>=7.6.5->pycaret) (1.8.0)\r\n",
      "Requirement already satisfied: jupyter-client>=6.1.12 in /opt/conda/lib/python3.10/site-packages (from ipykernel>=4.5.1->ipywidgets>=7.6.5->pycaret) (7.4.9)\r\n",
      "Requirement already satisfied: pyzmq>=24 in /opt/conda/lib/python3.10/site-packages (from ipykernel>=4.5.1->ipywidgets>=7.6.5->pycaret) (24.0.1)\r\n",
      "Requirement already satisfied: tornado>=6.1 in /opt/conda/lib/python3.10/site-packages (from ipykernel>=4.5.1->ipywidgets>=7.6.5->pycaret) (6.3.3)\r\n",
      "Requirement already satisfied: parso<0.9.0,>=0.8.3 in /opt/conda/lib/python3.10/site-packages (from jedi>=0.16->ipython>=5.5.0->pycaret) (0.8.3)\r\n",
      "Requirement already satisfied: attrs>=22.2.0 in /opt/conda/lib/python3.10/site-packages (from jsonschema>=2.6->nbformat>=4.2.0->pycaret) (23.2.0)\r\n",
      "Requirement already satisfied: jsonschema-specifications>=2023.03.6 in /opt/conda/lib/python3.10/site-packages (from jsonschema>=2.6->nbformat>=4.2.0->pycaret) (2023.12.1)\r\n",
      "Requirement already satisfied: referencing>=0.28.4 in /opt/conda/lib/python3.10/site-packages (from jsonschema>=2.6->nbformat>=4.2.0->pycaret) (0.32.1)\r\n",
      "Requirement already satisfied: rpds-py>=0.7.1 in /opt/conda/lib/python3.10/site-packages (from jsonschema>=2.6->nbformat>=4.2.0->pycaret) (0.16.2)\r\n",
      "Requirement already satisfied: platformdirs>=2.5 in /opt/conda/lib/python3.10/site-packages (from jupyter-core->nbformat>=4.2.0->pycaret) (3.11.0)\r\n",
      "Requirement already satisfied: six in /opt/conda/lib/python3.10/site-packages (from patsy>=0.5.1->category-encoders>=2.4.0->pycaret) (1.16.0)\r\n",
      "Requirement already satisfied: ptyprocess>=0.5 in /opt/conda/lib/python3.10/site-packages (from pexpect>4.3->ipython>=5.5.0->pycaret) (0.7.0)\r\n",
      "Requirement already satisfied: wcwidth in /opt/conda/lib/python3.10/site-packages (from prompt-toolkit<3.1.0,>=3.0.41->ipython>=5.5.0->pycaret) (0.2.13)\r\n",
      "Requirement already satisfied: notebook>=4.4.1 in /opt/conda/lib/python3.10/site-packages (from widgetsnbextension~=3.6.0->ipywidgets>=7.6.5->pycaret) (6.5.4)\r\n",
      "Requirement already satisfied: executing>=1.2.0 in /opt/conda/lib/python3.10/site-packages (from stack-data->ipython>=5.5.0->pycaret) (2.0.1)\r\n",
      "Requirement already satisfied: asttokens>=2.1.0 in /opt/conda/lib/python3.10/site-packages (from stack-data->ipython>=5.5.0->pycaret) (2.4.1)\r\n",
      "Requirement already satisfied: pure-eval in /opt/conda/lib/python3.10/site-packages (from stack-data->ipython>=5.5.0->pycaret) (0.2.2)\r\n",
      "Requirement already satisfied: itsdangerous>=2.1.2 in /opt/conda/lib/python3.10/site-packages (from Flask<3.1,>=1.0.4->dash>=2.9.0->plotly-resampler>=0.8.3.1->pycaret) (2.2.0)\r\n",
      "Requirement already satisfied: click>=8.1.3 in /opt/conda/lib/python3.10/site-packages (from Flask<3.1,>=1.0.4->dash>=2.9.0->plotly-resampler>=0.8.3.1->pycaret) (8.1.7)\r\n",
      "Requirement already satisfied: blinker>=1.6.2 in /opt/conda/lib/python3.10/site-packages (from Flask<3.1,>=1.0.4->dash>=2.9.0->plotly-resampler>=0.8.3.1->pycaret) (1.8.2)\r\n",
      "Requirement already satisfied: entrypoints in /opt/conda/lib/python3.10/site-packages (from jupyter-client>=6.1.12->ipykernel>=4.5.1->ipywidgets>=7.6.5->pycaret) (0.4)\r\n",
      "Requirement already satisfied: argon2-cffi in /opt/conda/lib/python3.10/site-packages (from notebook>=4.4.1->widgetsnbextension~=3.6.0->ipywidgets>=7.6.5->pycaret) (23.1.0)\r\n",
      "Requirement already satisfied: nbconvert>=5 in /opt/conda/lib/python3.10/site-packages (from notebook>=4.4.1->widgetsnbextension~=3.6.0->ipywidgets>=7.6.5->pycaret) (6.4.5)\r\n",
      "Requirement already satisfied: Send2Trash>=1.8.0 in /opt/conda/lib/python3.10/site-packages (from notebook>=4.4.1->widgetsnbextension~=3.6.0->ipywidgets>=7.6.5->pycaret) (1.8.2)\r\n",
      "Requirement already satisfied: terminado>=0.8.3 in /opt/conda/lib/python3.10/site-packages (from notebook>=4.4.1->widgetsnbextension~=3.6.0->ipywidgets>=7.6.5->pycaret) (0.18.0)\r\n",
      "Requirement already satisfied: prometheus-client in /opt/conda/lib/python3.10/site-packages (from notebook>=4.4.1->widgetsnbextension~=3.6.0->ipywidgets>=7.6.5->pycaret) (0.19.0)\r\n",
      "Requirement already satisfied: nbclassic>=0.4.7 in /opt/conda/lib/python3.10/site-packages (from notebook>=4.4.1->widgetsnbextension~=3.6.0->ipywidgets>=7.6.5->pycaret) (1.0.0)\r\n",
      "Requirement already satisfied: jupyter-server>=1.8 in /opt/conda/lib/python3.10/site-packages (from nbclassic>=0.4.7->notebook>=4.4.1->widgetsnbextension~=3.6.0->ipywidgets>=7.6.5->pycaret) (2.12.5)\r\n",
      "Requirement already satisfied: notebook-shim>=0.2.3 in /opt/conda/lib/python3.10/site-packages (from nbclassic>=0.4.7->notebook>=4.4.1->widgetsnbextension~=3.6.0->ipywidgets>=7.6.5->pycaret) (0.2.3)\r\n",
      "Requirement already satisfied: mistune<2,>=0.8.1 in /opt/conda/lib/python3.10/site-packages (from nbconvert>=5->notebook>=4.4.1->widgetsnbextension~=3.6.0->ipywidgets>=7.6.5->pycaret) (0.8.4)\r\n",
      "Requirement already satisfied: jupyterlab-pygments in /opt/conda/lib/python3.10/site-packages (from nbconvert>=5->notebook>=4.4.1->widgetsnbextension~=3.6.0->ipywidgets>=7.6.5->pycaret) (0.3.0)\r\n",
      "Requirement already satisfied: bleach in /opt/conda/lib/python3.10/site-packages (from nbconvert>=5->notebook>=4.4.1->widgetsnbextension~=3.6.0->ipywidgets>=7.6.5->pycaret) (6.1.0)\r\n",
      "Requirement already satisfied: pandocfilters>=1.4.1 in /opt/conda/lib/python3.10/site-packages (from nbconvert>=5->notebook>=4.4.1->widgetsnbextension~=3.6.0->ipywidgets>=7.6.5->pycaret) (1.5.0)\r\n",
      "Requirement already satisfied: testpath in /opt/conda/lib/python3.10/site-packages (from nbconvert>=5->notebook>=4.4.1->widgetsnbextension~=3.6.0->ipywidgets>=7.6.5->pycaret) (0.6.0)\r\n",
      "Requirement already satisfied: defusedxml in /opt/conda/lib/python3.10/site-packages (from nbconvert>=5->notebook>=4.4.1->widgetsnbextension~=3.6.0->ipywidgets>=7.6.5->pycaret) (0.7.1)\r\n",
      "Requirement already satisfied: beautifulsoup4 in /opt/conda/lib/python3.10/site-packages (from nbconvert>=5->notebook>=4.4.1->widgetsnbextension~=3.6.0->ipywidgets>=7.6.5->pycaret) (4.12.2)\r\n",
      "Requirement already satisfied: nbclient<0.6.0,>=0.5.0 in /opt/conda/lib/python3.10/site-packages (from nbconvert>=5->notebook>=4.4.1->widgetsnbextension~=3.6.0->ipywidgets>=7.6.5->pycaret) (0.5.13)\r\n",
      "Requirement already satisfied: argon2-cffi-bindings in /opt/conda/lib/python3.10/site-packages (from argon2-cffi->notebook>=4.4.1->widgetsnbextension~=3.6.0->ipywidgets>=7.6.5->pycaret) (21.2.0)\r\n",
      "Requirement already satisfied: anyio>=3.1.0 in /opt/conda/lib/python3.10/site-packages (from jupyter-server>=1.8->nbclassic>=0.4.7->notebook>=4.4.1->widgetsnbextension~=3.6.0->ipywidgets>=7.6.5->pycaret) (4.2.0)\r\n",
      "Requirement already satisfied: jupyter-events>=0.9.0 in /opt/conda/lib/python3.10/site-packages (from jupyter-server>=1.8->nbclassic>=0.4.7->notebook>=4.4.1->widgetsnbextension~=3.6.0->ipywidgets>=7.6.5->pycaret) (0.9.0)\r\n",
      "Requirement already satisfied: jupyter-server-terminals in /opt/conda/lib/python3.10/site-packages (from jupyter-server>=1.8->nbclassic>=0.4.7->notebook>=4.4.1->widgetsnbextension~=3.6.0->ipywidgets>=7.6.5->pycaret) (0.5.1)\r\n",
      "Requirement already satisfied: overrides in /opt/conda/lib/python3.10/site-packages (from jupyter-server>=1.8->nbclassic>=0.4.7->notebook>=4.4.1->widgetsnbextension~=3.6.0->ipywidgets>=7.6.5->pycaret) (7.4.0)\r\n",
      "Requirement already satisfied: websocket-client in /opt/conda/lib/python3.10/site-packages (from jupyter-server>=1.8->nbclassic>=0.4.7->notebook>=4.4.1->widgetsnbextension~=3.6.0->ipywidgets>=7.6.5->pycaret) (1.7.0)\r\n",
      "Requirement already satisfied: cffi>=1.0.1 in /opt/conda/lib/python3.10/site-packages (from argon2-cffi-bindings->argon2-cffi->notebook>=4.4.1->widgetsnbextension~=3.6.0->ipywidgets>=7.6.5->pycaret) (1.16.0)\r\n",
      "Requirement already satisfied: soupsieve>1.2 in /opt/conda/lib/python3.10/site-packages (from beautifulsoup4->nbconvert>=5->notebook>=4.4.1->widgetsnbextension~=3.6.0->ipywidgets>=7.6.5->pycaret) (2.5)\r\n",
      "Requirement already satisfied: webencodings in /opt/conda/lib/python3.10/site-packages (from bleach->nbconvert>=5->notebook>=4.4.1->widgetsnbextension~=3.6.0->ipywidgets>=7.6.5->pycaret) (0.5.1)\r\n",
      "Requirement already satisfied: sniffio>=1.1 in /opt/conda/lib/python3.10/site-packages (from anyio>=3.1.0->jupyter-server>=1.8->nbclassic>=0.4.7->notebook>=4.4.1->widgetsnbextension~=3.6.0->ipywidgets>=7.6.5->pycaret) (1.3.0)\r\n",
      "Requirement already satisfied: pycparser in /opt/conda/lib/python3.10/site-packages (from cffi>=1.0.1->argon2-cffi-bindings->argon2-cffi->notebook>=4.4.1->widgetsnbextension~=3.6.0->ipywidgets>=7.6.5->pycaret) (2.21)\r\n",
      "Requirement already satisfied: python-json-logger>=2.0.4 in /opt/conda/lib/python3.10/site-packages (from jupyter-events>=0.9.0->jupyter-server>=1.8->nbclassic>=0.4.7->notebook>=4.4.1->widgetsnbextension~=3.6.0->ipywidgets>=7.6.5->pycaret) (2.0.7)\r\n",
      "Requirement already satisfied: pyyaml>=5.3 in /opt/conda/lib/python3.10/site-packages (from jupyter-events>=0.9.0->jupyter-server>=1.8->nbclassic>=0.4.7->notebook>=4.4.1->widgetsnbextension~=3.6.0->ipywidgets>=7.6.5->pycaret) (6.0.1)\r\n",
      "Requirement already satisfied: rfc3339-validator in /opt/conda/lib/python3.10/site-packages (from jupyter-events>=0.9.0->jupyter-server>=1.8->nbclassic>=0.4.7->notebook>=4.4.1->widgetsnbextension~=3.6.0->ipywidgets>=7.6.5->pycaret) (0.1.4)\r\n",
      "Requirement already satisfied: rfc3986-validator>=0.1.1 in /opt/conda/lib/python3.10/site-packages (from jupyter-events>=0.9.0->jupyter-server>=1.8->nbclassic>=0.4.7->notebook>=4.4.1->widgetsnbextension~=3.6.0->ipywidgets>=7.6.5->pycaret) (0.1.1)\r\n",
      "Requirement already satisfied: fqdn in /opt/conda/lib/python3.10/site-packages (from jsonschema[format-nongpl]>=4.18.0->jupyter-events>=0.9.0->jupyter-server>=1.8->nbclassic>=0.4.7->notebook>=4.4.1->widgetsnbextension~=3.6.0->ipywidgets>=7.6.5->pycaret) (1.5.1)\r\n",
      "Requirement already satisfied: isoduration in /opt/conda/lib/python3.10/site-packages (from jsonschema[format-nongpl]>=4.18.0->jupyter-events>=0.9.0->jupyter-server>=1.8->nbclassic>=0.4.7->notebook>=4.4.1->widgetsnbextension~=3.6.0->ipywidgets>=7.6.5->pycaret) (20.11.0)\r\n",
      "Requirement already satisfied: jsonpointer>1.13 in /opt/conda/lib/python3.10/site-packages (from jsonschema[format-nongpl]>=4.18.0->jupyter-events>=0.9.0->jupyter-server>=1.8->nbclassic>=0.4.7->notebook>=4.4.1->widgetsnbextension~=3.6.0->ipywidgets>=7.6.5->pycaret) (2.4)\r\n",
      "Requirement already satisfied: uri-template in /opt/conda/lib/python3.10/site-packages (from jsonschema[format-nongpl]>=4.18.0->jupyter-events>=0.9.0->jupyter-server>=1.8->nbclassic>=0.4.7->notebook>=4.4.1->widgetsnbextension~=3.6.0->ipywidgets>=7.6.5->pycaret) (1.3.0)\r\n",
      "Requirement already satisfied: webcolors>=1.11 in /opt/conda/lib/python3.10/site-packages (from jsonschema[format-nongpl]>=4.18.0->jupyter-events>=0.9.0->jupyter-server>=1.8->nbclassic>=0.4.7->notebook>=4.4.1->widgetsnbextension~=3.6.0->ipywidgets>=7.6.5->pycaret) (1.13)\r\n",
      "Requirement already satisfied: arrow>=0.15.0 in /opt/conda/lib/python3.10/site-packages (from isoduration->jsonschema[format-nongpl]>=4.18.0->jupyter-events>=0.9.0->jupyter-server>=1.8->nbclassic>=0.4.7->notebook>=4.4.1->widgetsnbextension~=3.6.0->ipywidgets>=7.6.5->pycaret) (1.3.0)\r\n",
      "Requirement already satisfied: types-python-dateutil>=2.8.10 in /opt/conda/lib/python3.10/site-packages (from arrow>=0.15.0->isoduration->jsonschema[format-nongpl]>=4.18.0->jupyter-events>=0.9.0->jupyter-server>=1.8->nbclassic>=0.4.7->notebook>=4.4.1->widgetsnbextension~=3.6.0->ipywidgets>=7.6.5->pycaret) (2.8.19.20240106)\r\n",
      "Downloading pycaret-3.3.2-py3-none-any.whl (486 kB)\r\n",
      "\u001b[2K   \u001b[90m━━━━━━━━━━━━━━━━━━━━━━━━━━━━━━━━━━━━━━━━\u001b[0m \u001b[32m486.1/486.1 kB\u001b[0m \u001b[31m6.3 MB/s\u001b[0m eta \u001b[36m0:00:00\u001b[0m\r\n",
      "\u001b[?25hDownloading schemdraw-0.15-py3-none-any.whl (106 kB)\r\n",
      "\u001b[2K   \u001b[90m━━━━━━━━━━━━━━━━━━━━━━━━━━━━━━━━━━━━━━━━\u001b[0m \u001b[32m106.8/106.8 kB\u001b[0m \u001b[31m6.0 MB/s\u001b[0m eta \u001b[36m0:00:00\u001b[0m\r\n",
      "\u001b[?25hDownloading sktime-0.26.0-py3-none-any.whl (21.8 MB)\r\n",
      "\u001b[2K   \u001b[90m━━━━━━━━━━━━━━━━━━━━━━━━━━━━━━━━━━━━━━━━\u001b[0m \u001b[32m21.8/21.8 MB\u001b[0m \u001b[31m47.3 MB/s\u001b[0m eta \u001b[36m0:00:00\u001b[0m\r\n",
      "\u001b[?25hDownloading joblib-1.3.2-py3-none-any.whl (302 kB)\r\n",
      "\u001b[2K   \u001b[90m━━━━━━━━━━━━━━━━━━━━━━━━━━━━━━━━━━━━━━━━\u001b[0m \u001b[32m302.2/302.2 kB\u001b[0m \u001b[31m18.1 MB/s\u001b[0m eta \u001b[36m0:00:00\u001b[0m\r\n",
      "\u001b[?25hDownloading kaleido-0.2.1-py2.py3-none-manylinux1_x86_64.whl (79.9 MB)\r\n",
      "\u001b[2K   \u001b[90m━━━━━━━━━━━━━━━━━━━━━━━━━━━━━━━━━━━━━━━━\u001b[0m \u001b[32m79.9/79.9 MB\u001b[0m \u001b[31m17.5 MB/s\u001b[0m eta \u001b[36m0:00:00\u001b[0m\r\n",
      "\u001b[?25hDownloading pandas-2.1.4-cp310-cp310-manylinux_2_17_x86_64.manylinux2014_x86_64.whl (12.3 MB)\r\n",
      "\u001b[2K   \u001b[90m━━━━━━━━━━━━━━━━━━━━━━━━━━━━━━━━━━━━━━━━\u001b[0m \u001b[32m12.3/12.3 MB\u001b[0m \u001b[31m54.2 MB/s\u001b[0m eta \u001b[36m0:00:00\u001b[0m\r\n",
      "\u001b[?25hDownloading plotly_resampler-0.10.0-py3-none-any.whl (80 kB)\r\n",
      "\u001b[2K   \u001b[90m━━━━━━━━━━━━━━━━━━━━━━━━━━━━━━━━━━━━━━━━\u001b[0m \u001b[32m80.7/80.7 kB\u001b[0m \u001b[31m4.4 MB/s\u001b[0m eta \u001b[36m0:00:00\u001b[0m\r\n",
      "\u001b[?25hDownloading pmdarima-2.0.4-cp310-cp310-manylinux_2_17_x86_64.manylinux2014_x86_64.manylinux_2_28_x86_64.whl (2.1 MB)\r\n",
      "\u001b[2K   \u001b[90m━━━━━━━━━━━━━━━━━━━━━━━━━━━━━━━━━━━━━━━━\u001b[0m \u001b[32m2.1/2.1 MB\u001b[0m \u001b[31m57.2 MB/s\u001b[0m eta \u001b[36m0:00:00\u001b[0m\r\n",
      "\u001b[?25hDownloading scikit_learn-1.4.2-cp310-cp310-manylinux_2_17_x86_64.manylinux2014_x86_64.whl (12.1 MB)\r\n",
      "\u001b[2K   \u001b[90m━━━━━━━━━━━━━━━━━━━━━━━━━━━━━━━━━━━━━━━━\u001b[0m \u001b[32m12.1/12.1 MB\u001b[0m \u001b[31m50.9 MB/s\u001b[0m eta \u001b[36m0:00:00\u001b[0m\r\n",
      "\u001b[?25hDownloading tbats-1.1.3-py3-none-any.whl (44 kB)\r\n",
      "\u001b[2K   \u001b[90m━━━━━━━━━━━━━━━━━━━━━━━━━━━━━━━━━━━━━━━━\u001b[0m \u001b[32m44.0/44.0 kB\u001b[0m \u001b[31m2.3 MB/s\u001b[0m eta \u001b[36m0:00:00\u001b[0m\r\n",
      "\u001b[?25hDownloading wurlitzer-3.1.1-py3-none-any.whl (8.6 kB)\r\n",
      "Downloading dash-2.17.1-py3-none-any.whl (7.5 MB)\r\n",
      "\u001b[2K   \u001b[90m━━━━━━━━━━━━━━━━━━━━━━━━━━━━━━━━━━━━━━━━\u001b[0m \u001b[32m7.5/7.5 MB\u001b[0m \u001b[31m55.3 MB/s\u001b[0m eta \u001b[36m0:00:00\u001b[0m\r\n",
      "\u001b[?25hDownloading dash_core_components-2.0.0-py3-none-any.whl (3.8 kB)\r\n",
      "Downloading dash_html_components-2.0.0-py3-none-any.whl (4.1 kB)\r\n",
      "Downloading dash_table-5.0.0-py3-none-any.whl (3.9 kB)\r\n",
      "Downloading scikit_base-0.7.8-py3-none-any.whl (130 kB)\r\n",
      "\u001b[2K   \u001b[90m━━━━━━━━━━━━━━━━━━━━━━━━━━━━━━━━━━━━━━━━\u001b[0m \u001b[32m130.1/130.1 kB\u001b[0m \u001b[31m7.5 MB/s\u001b[0m eta \u001b[36m0:00:00\u001b[0m\r\n",
      "\u001b[?25hDownloading tsdownsample-0.1.3-cp310-cp310-manylinux_2_17_x86_64.manylinux2014_x86_64.whl (2.1 MB)\r\n",
      "\u001b[2K   \u001b[90m━━━━━━━━━━━━━━━━━━━━━━━━━━━━━━━━━━━━━━━━\u001b[0m \u001b[32m2.1/2.1 MB\u001b[0m \u001b[31m53.8 MB/s\u001b[0m eta \u001b[36m0:00:00\u001b[0m\r\n",
      "\u001b[?25hBuilding wheels for collected packages: pyod\r\n",
      "  Building wheel for pyod (setup.py) ... \u001b[?25l-\b \b\\\b \b|\b \b/\b \bdone\r\n",
      "\u001b[?25h  Created wheel for pyod: filename=pyod-2.0.1-py3-none-any.whl size=193267 sha256=b552330418019474474bfa7d2d95f035f83623771d93bf755c88935d7d51ab90\r\n",
      "  Stored in directory: /root/.cache/pip/wheels/94/75/88/b853cf33b0053b0a001dca55b74d515048b7656e736364eb57\r\n",
      "Successfully built pyod\r\n",
      "Installing collected packages: kaleido, dash-table, dash-html-components, dash-core-components, wurlitzer, tsdownsample, scikit-base, schemdraw, joblib, scikit-learn, pandas, sktime, pyod, dash, pmdarima, plotly-resampler, tbats, pycaret\r\n",
      "  Attempting uninstall: joblib\r\n",
      "    Found existing installation: joblib 1.4.2\r\n",
      "    Uninstalling joblib-1.4.2:\r\n",
      "      Successfully uninstalled joblib-1.4.2\r\n",
      "  Attempting uninstall: scikit-learn\r\n",
      "    Found existing installation: scikit-learn 1.2.2\r\n",
      "    Uninstalling scikit-learn-1.2.2:\r\n",
      "      Successfully uninstalled scikit-learn-1.2.2\r\n",
      "  Attempting uninstall: pandas\r\n",
      "    Found existing installation: pandas 2.2.2\r\n",
      "    Uninstalling pandas-2.2.2:\r\n",
      "      Successfully uninstalled pandas-2.2.2\r\n",
      "\u001b[31mERROR: pip's dependency resolver does not currently take into account all the packages that are installed. This behaviour is the source of the following dependency conflicts.\r\n",
      "beatrix-jupyterlab 2023.128.151533 requires jupyterlab~=3.6.0, but you have jupyterlab 4.2.3 which is incompatible.\r\n",
      "libpysal 4.9.2 requires packaging>=22, but you have packaging 21.3 which is incompatible.\r\n",
      "libpysal 4.9.2 requires shapely>=2.0.1, but you have shapely 1.8.5.post1 which is incompatible.\r\n",
      "momepy 0.7.2 requires shapely>=2, but you have shapely 1.8.5.post1 which is incompatible.\r\n",
      "osmnx 1.9.3 requires shapely>=2.0, but you have shapely 1.8.5.post1 which is incompatible.\r\n",
      "pointpats 2.5.0 requires shapely>=2, but you have shapely 1.8.5.post1 which is incompatible.\r\n",
      "spaghetti 1.7.6 requires shapely>=2.0.1, but you have shapely 1.8.5.post1 which is incompatible.\r\n",
      "spopt 0.6.1 requires shapely>=2.0.1, but you have shapely 1.8.5.post1 which is incompatible.\r\n",
      "xarray 2024.6.0 requires packaging>=23.1, but you have packaging 21.3 which is incompatible.\r\n",
      "ydata-profiling 4.6.4 requires numpy<1.26,>=1.16.0, but you have numpy 1.26.4 which is incompatible.\u001b[0m\u001b[31m\r\n",
      "\u001b[0mSuccessfully installed dash-2.17.1 dash-core-components-2.0.0 dash-html-components-2.0.0 dash-table-5.0.0 joblib-1.3.2 kaleido-0.2.1 pandas-2.1.4 plotly-resampler-0.10.0 pmdarima-2.0.4 pycaret-3.3.2 pyod-2.0.1 schemdraw-0.15 scikit-base-0.7.8 scikit-learn-1.4.2 sktime-0.26.0 tbats-1.1.3 tsdownsample-0.1.3 wurlitzer-3.1.1\r\n"
     ]
    }
   ],
   "source": [
    "!pip install pycaret\n"
   ]
  },
  {
   "cell_type": "code",
   "execution_count": 8,
   "id": "e5eef6e2",
   "metadata": {
    "execution": {
     "iopub.execute_input": "2024-08-15T12:21:38.710410Z",
     "iopub.status.busy": "2024-08-15T12:21:38.709452Z",
     "iopub.status.idle": "2024-08-15T12:21:38.908954Z",
     "shell.execute_reply": "2024-08-15T12:21:38.907795Z"
    },
    "papermill": {
     "duration": 0.229075,
     "end_time": "2024-08-15T12:21:38.911777",
     "exception": false,
     "start_time": "2024-08-15T12:21:38.682702",
     "status": "completed"
    },
    "tags": []
   },
   "outputs": [],
   "source": [
    "from sklearn.preprocessing import LabelEncoder\n",
    "\n",
    "# Use only relevant columns\n",
    "coffee_clean = coffee.drop(columns = ['date', 'datetime', 'card', 'day of week', 'milk powder',\n",
    "       'hot chocolate', 'cocoa powder'])\n",
    "\n",
    "label_encoder = LabelEncoder()\n",
    "coffee_clean['cash_type'] = label_encoder.fit_transform(coffee_clean['cash_type'])"
   ]
  },
  {
   "cell_type": "code",
   "execution_count": 9,
   "id": "86563808",
   "metadata": {
    "execution": {
     "iopub.execute_input": "2024-08-15T12:21:38.963459Z",
     "iopub.status.busy": "2024-08-15T12:21:38.962801Z",
     "iopub.status.idle": "2024-08-15T12:21:43.059747Z",
     "shell.execute_reply": "2024-08-15T12:21:43.058364Z"
    },
    "papermill": {
     "duration": 4.126066,
     "end_time": "2024-08-15T12:21:43.062697",
     "exception": false,
     "start_time": "2024-08-15T12:21:38.936631",
     "status": "completed"
    },
    "tags": []
   },
   "outputs": [],
   "source": [
    "from pycaret.regression import *"
   ]
  },
  {
   "cell_type": "code",
   "execution_count": 10,
   "id": "e0404895",
   "metadata": {
    "execution": {
     "iopub.execute_input": "2024-08-15T12:21:43.116973Z",
     "iopub.status.busy": "2024-08-15T12:21:43.115678Z",
     "iopub.status.idle": "2024-08-15T12:21:43.133877Z",
     "shell.execute_reply": "2024-08-15T12:21:43.132785Z"
    },
    "papermill": {
     "duration": 0.04756,
     "end_time": "2024-08-15T12:21:43.136591",
     "exception": false,
     "start_time": "2024-08-15T12:21:43.089031",
     "status": "completed"
    },
    "tags": []
   },
   "outputs": [
    {
     "data": {
      "text/plain": [
       "((89, 3), (30, 3))"
      ]
     },
     "execution_count": 10,
     "metadata": {},
     "output_type": "execute_result"
    }
   ],
   "source": [
    "# Rearranging the dataset\n",
    "coffee_clean = coffee_clean.groupby(['month', 'day']).agg({\n",
    "    'coffee': 'count'\n",
    "}).reset_index()\n",
    "\n",
    "train = coffee_clean[coffee_clean['month'] < 6]\n",
    "test = coffee_clean[coffee_clean['month'] == 6]\n",
    "\n",
    "# check shape\n",
    "train.shape, test.shape"
   ]
  },
  {
   "cell_type": "markdown",
   "id": "95340fa8",
   "metadata": {
    "papermill": {
     "duration": 0.024758,
     "end_time": "2024-08-15T12:21:43.186251",
     "exception": false,
     "start_time": "2024-08-15T12:21:43.161493",
     "status": "completed"
    },
    "tags": []
   },
   "source": [
    "## Initializing setup\n"
   ]
  },
  {
   "cell_type": "code",
   "execution_count": 11,
   "id": "384cb7e7",
   "metadata": {
    "execution": {
     "iopub.execute_input": "2024-08-15T12:21:43.239173Z",
     "iopub.status.busy": "2024-08-15T12:21:43.238251Z",
     "iopub.status.idle": "2024-08-15T12:21:49.233745Z",
     "shell.execute_reply": "2024-08-15T12:21:49.232659Z"
    },
    "papermill": {
     "duration": 6.025792,
     "end_time": "2024-08-15T12:21:49.236989",
     "exception": false,
     "start_time": "2024-08-15T12:21:43.211197",
     "status": "completed"
    },
    "tags": []
   },
   "outputs": [
    {
     "data": {
      "text/html": [
       "<style type=\"text/css\">\n",
       "#T_6abf0_row8_col1 {\n",
       "  background-color: lightgreen;\n",
       "}\n",
       "</style>\n",
       "<table id=\"T_6abf0\">\n",
       "  <thead>\n",
       "    <tr>\n",
       "      <th class=\"blank level0\" >&nbsp;</th>\n",
       "      <th id=\"T_6abf0_level0_col0\" class=\"col_heading level0 col0\" >Description</th>\n",
       "      <th id=\"T_6abf0_level0_col1\" class=\"col_heading level0 col1\" >Value</th>\n",
       "    </tr>\n",
       "  </thead>\n",
       "  <tbody>\n",
       "    <tr>\n",
       "      <th id=\"T_6abf0_level0_row0\" class=\"row_heading level0 row0\" >0</th>\n",
       "      <td id=\"T_6abf0_row0_col0\" class=\"data row0 col0\" >Session id</td>\n",
       "      <td id=\"T_6abf0_row0_col1\" class=\"data row0 col1\" >123</td>\n",
       "    </tr>\n",
       "    <tr>\n",
       "      <th id=\"T_6abf0_level0_row1\" class=\"row_heading level0 row1\" >1</th>\n",
       "      <td id=\"T_6abf0_row1_col0\" class=\"data row1 col0\" >Target</td>\n",
       "      <td id=\"T_6abf0_row1_col1\" class=\"data row1 col1\" >coffee</td>\n",
       "    </tr>\n",
       "    <tr>\n",
       "      <th id=\"T_6abf0_level0_row2\" class=\"row_heading level0 row2\" >2</th>\n",
       "      <td id=\"T_6abf0_row2_col0\" class=\"data row2 col0\" >Target type</td>\n",
       "      <td id=\"T_6abf0_row2_col1\" class=\"data row2 col1\" >Regression</td>\n",
       "    </tr>\n",
       "    <tr>\n",
       "      <th id=\"T_6abf0_level0_row3\" class=\"row_heading level0 row3\" >3</th>\n",
       "      <td id=\"T_6abf0_row3_col0\" class=\"data row3 col0\" >Original data shape</td>\n",
       "      <td id=\"T_6abf0_row3_col1\" class=\"data row3 col1\" >(119, 3)</td>\n",
       "    </tr>\n",
       "    <tr>\n",
       "      <th id=\"T_6abf0_level0_row4\" class=\"row_heading level0 row4\" >4</th>\n",
       "      <td id=\"T_6abf0_row4_col0\" class=\"data row4 col0\" >Transformed data shape</td>\n",
       "      <td id=\"T_6abf0_row4_col1\" class=\"data row4 col1\" >(119, 3)</td>\n",
       "    </tr>\n",
       "    <tr>\n",
       "      <th id=\"T_6abf0_level0_row5\" class=\"row_heading level0 row5\" >5</th>\n",
       "      <td id=\"T_6abf0_row5_col0\" class=\"data row5 col0\" >Transformed train set shape</td>\n",
       "      <td id=\"T_6abf0_row5_col1\" class=\"data row5 col1\" >(89, 3)</td>\n",
       "    </tr>\n",
       "    <tr>\n",
       "      <th id=\"T_6abf0_level0_row6\" class=\"row_heading level0 row6\" >6</th>\n",
       "      <td id=\"T_6abf0_row6_col0\" class=\"data row6 col0\" >Transformed test set shape</td>\n",
       "      <td id=\"T_6abf0_row6_col1\" class=\"data row6 col1\" >(30, 3)</td>\n",
       "    </tr>\n",
       "    <tr>\n",
       "      <th id=\"T_6abf0_level0_row7\" class=\"row_heading level0 row7\" >7</th>\n",
       "      <td id=\"T_6abf0_row7_col0\" class=\"data row7 col0\" >Numeric features</td>\n",
       "      <td id=\"T_6abf0_row7_col1\" class=\"data row7 col1\" >2</td>\n",
       "    </tr>\n",
       "    <tr>\n",
       "      <th id=\"T_6abf0_level0_row8\" class=\"row_heading level0 row8\" >8</th>\n",
       "      <td id=\"T_6abf0_row8_col0\" class=\"data row8 col0\" >Preprocess</td>\n",
       "      <td id=\"T_6abf0_row8_col1\" class=\"data row8 col1\" >True</td>\n",
       "    </tr>\n",
       "    <tr>\n",
       "      <th id=\"T_6abf0_level0_row9\" class=\"row_heading level0 row9\" >9</th>\n",
       "      <td id=\"T_6abf0_row9_col0\" class=\"data row9 col0\" >Imputation type</td>\n",
       "      <td id=\"T_6abf0_row9_col1\" class=\"data row9 col1\" >simple</td>\n",
       "    </tr>\n",
       "    <tr>\n",
       "      <th id=\"T_6abf0_level0_row10\" class=\"row_heading level0 row10\" >10</th>\n",
       "      <td id=\"T_6abf0_row10_col0\" class=\"data row10 col0\" >Numeric imputation</td>\n",
       "      <td id=\"T_6abf0_row10_col1\" class=\"data row10 col1\" >mean</td>\n",
       "    </tr>\n",
       "    <tr>\n",
       "      <th id=\"T_6abf0_level0_row11\" class=\"row_heading level0 row11\" >11</th>\n",
       "      <td id=\"T_6abf0_row11_col0\" class=\"data row11 col0\" >Categorical imputation</td>\n",
       "      <td id=\"T_6abf0_row11_col1\" class=\"data row11 col1\" >mode</td>\n",
       "    </tr>\n",
       "    <tr>\n",
       "      <th id=\"T_6abf0_level0_row12\" class=\"row_heading level0 row12\" >12</th>\n",
       "      <td id=\"T_6abf0_row12_col0\" class=\"data row12 col0\" >Fold Generator</td>\n",
       "      <td id=\"T_6abf0_row12_col1\" class=\"data row12 col1\" >TimeSeriesSplit</td>\n",
       "    </tr>\n",
       "    <tr>\n",
       "      <th id=\"T_6abf0_level0_row13\" class=\"row_heading level0 row13\" >13</th>\n",
       "      <td id=\"T_6abf0_row13_col0\" class=\"data row13 col0\" >Fold Number</td>\n",
       "      <td id=\"T_6abf0_row13_col1\" class=\"data row13 col1\" >6</td>\n",
       "    </tr>\n",
       "    <tr>\n",
       "      <th id=\"T_6abf0_level0_row14\" class=\"row_heading level0 row14\" >14</th>\n",
       "      <td id=\"T_6abf0_row14_col0\" class=\"data row14 col0\" >CPU Jobs</td>\n",
       "      <td id=\"T_6abf0_row14_col1\" class=\"data row14 col1\" >-1</td>\n",
       "    </tr>\n",
       "    <tr>\n",
       "      <th id=\"T_6abf0_level0_row15\" class=\"row_heading level0 row15\" >15</th>\n",
       "      <td id=\"T_6abf0_row15_col0\" class=\"data row15 col0\" >Use GPU</td>\n",
       "      <td id=\"T_6abf0_row15_col1\" class=\"data row15 col1\" >False</td>\n",
       "    </tr>\n",
       "    <tr>\n",
       "      <th id=\"T_6abf0_level0_row16\" class=\"row_heading level0 row16\" >16</th>\n",
       "      <td id=\"T_6abf0_row16_col0\" class=\"data row16 col0\" >Log Experiment</td>\n",
       "      <td id=\"T_6abf0_row16_col1\" class=\"data row16 col1\" >False</td>\n",
       "    </tr>\n",
       "    <tr>\n",
       "      <th id=\"T_6abf0_level0_row17\" class=\"row_heading level0 row17\" >17</th>\n",
       "      <td id=\"T_6abf0_row17_col0\" class=\"data row17 col0\" >Experiment Name</td>\n",
       "      <td id=\"T_6abf0_row17_col1\" class=\"data row17 col1\" >reg-default-name</td>\n",
       "    </tr>\n",
       "    <tr>\n",
       "      <th id=\"T_6abf0_level0_row18\" class=\"row_heading level0 row18\" >18</th>\n",
       "      <td id=\"T_6abf0_row18_col0\" class=\"data row18 col0\" >USI</td>\n",
       "      <td id=\"T_6abf0_row18_col1\" class=\"data row18 col1\" >83da</td>\n",
       "    </tr>\n",
       "  </tbody>\n",
       "</table>\n"
      ],
      "text/plain": [
       "<pandas.io.formats.style.Styler at 0x7a8cfe536d40>"
      ]
     },
     "metadata": {},
     "output_type": "display_data"
    }
   ],
   "source": [
    "s = setup(\n",
    "    data = train, \n",
    "    test_data = test, \n",
    "    target = 'coffee', \n",
    "    fold_strategy = 'timeseries', \n",
    "    numeric_features = ['month','day'], \n",
    "    fold = 6, \n",
    "    transform_target = False, \n",
    "    session_id = 123,\n",
    "    data_split_shuffle=False,\n",
    "    fold_shuffle=False\n",
    ")"
   ]
  },
  {
   "cell_type": "markdown",
   "id": "499c6a48",
   "metadata": {
    "papermill": {
     "duration": 0.025033,
     "end_time": "2024-08-15T12:21:49.288030",
     "exception": false,
     "start_time": "2024-08-15T12:21:49.262997",
     "status": "completed"
    },
    "tags": []
   },
   "source": [
    "## Checking which model works the best\n"
   ]
  },
  {
   "cell_type": "code",
   "execution_count": 12,
   "id": "86638c42",
   "metadata": {
    "execution": {
     "iopub.execute_input": "2024-08-15T12:21:49.340638Z",
     "iopub.status.busy": "2024-08-15T12:21:49.340214Z",
     "iopub.status.idle": "2024-08-15T12:22:09.103936Z",
     "shell.execute_reply": "2024-08-15T12:22:09.102617Z"
    },
    "papermill": {
     "duration": 19.793608,
     "end_time": "2024-08-15T12:22:09.106985",
     "exception": false,
     "start_time": "2024-08-15T12:21:49.313377",
     "status": "completed"
    },
    "tags": []
   },
   "outputs": [
    {
     "data": {
      "text/html": [],
      "text/plain": [
       "<IPython.core.display.HTML object>"
      ]
     },
     "metadata": {},
     "output_type": "display_data"
    },
    {
     "data": {
      "text/html": [
       "<style type=\"text/css\">\n",
       "#T_8429c th {\n",
       "  text-align: left;\n",
       "}\n",
       "#T_8429c_row0_col0, #T_8429c_row0_col1, #T_8429c_row0_col3, #T_8429c_row0_col4, #T_8429c_row0_col5, #T_8429c_row0_col6, #T_8429c_row1_col0, #T_8429c_row1_col1, #T_8429c_row1_col2, #T_8429c_row1_col3, #T_8429c_row1_col4, #T_8429c_row1_col5, #T_8429c_row1_col6, #T_8429c_row2_col0, #T_8429c_row2_col1, #T_8429c_row2_col2, #T_8429c_row2_col5, #T_8429c_row2_col6, #T_8429c_row3_col0, #T_8429c_row3_col2, #T_8429c_row3_col3, #T_8429c_row3_col4, #T_8429c_row3_col5, #T_8429c_row3_col6, #T_8429c_row4_col0, #T_8429c_row4_col1, #T_8429c_row4_col2, #T_8429c_row4_col3, #T_8429c_row4_col4, #T_8429c_row4_col6, #T_8429c_row5_col0, #T_8429c_row5_col1, #T_8429c_row5_col2, #T_8429c_row5_col3, #T_8429c_row5_col4, #T_8429c_row5_col6, #T_8429c_row6_col0, #T_8429c_row6_col1, #T_8429c_row6_col2, #T_8429c_row6_col3, #T_8429c_row6_col4, #T_8429c_row6_col5, #T_8429c_row6_col6, #T_8429c_row7_col0, #T_8429c_row7_col1, #T_8429c_row7_col2, #T_8429c_row7_col3, #T_8429c_row7_col4, #T_8429c_row7_col5, #T_8429c_row7_col6, #T_8429c_row8_col0, #T_8429c_row8_col1, #T_8429c_row8_col2, #T_8429c_row8_col3, #T_8429c_row8_col4, #T_8429c_row8_col5, #T_8429c_row8_col6, #T_8429c_row9_col0, #T_8429c_row9_col1, #T_8429c_row9_col2, #T_8429c_row9_col3, #T_8429c_row9_col4, #T_8429c_row9_col5, #T_8429c_row10_col0, #T_8429c_row10_col1, #T_8429c_row10_col2, #T_8429c_row10_col3, #T_8429c_row10_col4, #T_8429c_row10_col5, #T_8429c_row11_col0, #T_8429c_row11_col1, #T_8429c_row11_col2, #T_8429c_row11_col3, #T_8429c_row11_col4, #T_8429c_row11_col5, #T_8429c_row11_col6, #T_8429c_row12_col0, #T_8429c_row12_col1, #T_8429c_row12_col2, #T_8429c_row12_col3, #T_8429c_row12_col4, #T_8429c_row12_col5, #T_8429c_row12_col6, #T_8429c_row13_col0, #T_8429c_row13_col1, #T_8429c_row13_col2, #T_8429c_row13_col3, #T_8429c_row13_col4, #T_8429c_row13_col5, #T_8429c_row13_col6, #T_8429c_row14_col0, #T_8429c_row14_col1, #T_8429c_row14_col2, #T_8429c_row14_col3, #T_8429c_row14_col4, #T_8429c_row14_col5, #T_8429c_row14_col6, #T_8429c_row15_col0, #T_8429c_row15_col1, #T_8429c_row15_col2, #T_8429c_row15_col3, #T_8429c_row15_col4, #T_8429c_row15_col5, #T_8429c_row15_col6, #T_8429c_row16_col0, #T_8429c_row16_col1, #T_8429c_row16_col2, #T_8429c_row16_col3, #T_8429c_row16_col4, #T_8429c_row16_col5, #T_8429c_row16_col6, #T_8429c_row17_col0, #T_8429c_row17_col1, #T_8429c_row17_col2, #T_8429c_row17_col3, #T_8429c_row17_col4, #T_8429c_row17_col5, #T_8429c_row17_col6, #T_8429c_row18_col0, #T_8429c_row18_col1, #T_8429c_row18_col2, #T_8429c_row18_col3, #T_8429c_row18_col4, #T_8429c_row18_col5, #T_8429c_row18_col6, #T_8429c_row19_col0, #T_8429c_row19_col1, #T_8429c_row19_col2, #T_8429c_row19_col3, #T_8429c_row19_col4, #T_8429c_row19_col5, #T_8429c_row19_col6 {\n",
       "  text-align: left;\n",
       "}\n",
       "#T_8429c_row0_col2, #T_8429c_row2_col3, #T_8429c_row2_col4, #T_8429c_row3_col1, #T_8429c_row4_col5, #T_8429c_row5_col5, #T_8429c_row9_col6, #T_8429c_row10_col6 {\n",
       "  text-align: left;\n",
       "  background-color: yellow;\n",
       "}\n",
       "#T_8429c_row0_col7, #T_8429c_row1_col7, #T_8429c_row3_col7, #T_8429c_row5_col7, #T_8429c_row6_col7, #T_8429c_row8_col7, #T_8429c_row9_col7, #T_8429c_row10_col7, #T_8429c_row11_col7, #T_8429c_row12_col7, #T_8429c_row13_col7, #T_8429c_row14_col7, #T_8429c_row15_col7, #T_8429c_row16_col7, #T_8429c_row17_col7, #T_8429c_row18_col7, #T_8429c_row19_col7 {\n",
       "  text-align: left;\n",
       "  background-color: lightgrey;\n",
       "}\n",
       "#T_8429c_row2_col7, #T_8429c_row4_col7, #T_8429c_row7_col7 {\n",
       "  text-align: left;\n",
       "  background-color: yellow;\n",
       "  background-color: lightgrey;\n",
       "}\n",
       "</style>\n",
       "<table id=\"T_8429c\">\n",
       "  <thead>\n",
       "    <tr>\n",
       "      <th class=\"blank level0\" >&nbsp;</th>\n",
       "      <th id=\"T_8429c_level0_col0\" class=\"col_heading level0 col0\" >Model</th>\n",
       "      <th id=\"T_8429c_level0_col1\" class=\"col_heading level0 col1\" >MAE</th>\n",
       "      <th id=\"T_8429c_level0_col2\" class=\"col_heading level0 col2\" >MSE</th>\n",
       "      <th id=\"T_8429c_level0_col3\" class=\"col_heading level0 col3\" >RMSE</th>\n",
       "      <th id=\"T_8429c_level0_col4\" class=\"col_heading level0 col4\" >R2</th>\n",
       "      <th id=\"T_8429c_level0_col5\" class=\"col_heading level0 col5\" >RMSLE</th>\n",
       "      <th id=\"T_8429c_level0_col6\" class=\"col_heading level0 col6\" >MAPE</th>\n",
       "      <th id=\"T_8429c_level0_col7\" class=\"col_heading level0 col7\" >TT (Sec)</th>\n",
       "    </tr>\n",
       "  </thead>\n",
       "  <tbody>\n",
       "    <tr>\n",
       "      <th id=\"T_8429c_level0_row0\" class=\"row_heading level0 row0\" >rf</th>\n",
       "      <td id=\"T_8429c_row0_col0\" class=\"data row0 col0\" >Random Forest Regressor</td>\n",
       "      <td id=\"T_8429c_row0_col1\" class=\"data row0 col1\" >3.0299</td>\n",
       "      <td id=\"T_8429c_row0_col2\" class=\"data row0 col2\" >13.6888</td>\n",
       "      <td id=\"T_8429c_row0_col3\" class=\"data row0 col3\" >3.6759</td>\n",
       "      <td id=\"T_8429c_row0_col4\" class=\"data row0 col4\" >-0.6601</td>\n",
       "      <td id=\"T_8429c_row0_col5\" class=\"data row0 col5\" >0.5000</td>\n",
       "      <td id=\"T_8429c_row0_col6\" class=\"data row0 col6\" >0.6363</td>\n",
       "      <td id=\"T_8429c_row0_col7\" class=\"data row0 col7\" >0.1267</td>\n",
       "    </tr>\n",
       "    <tr>\n",
       "      <th id=\"T_8429c_level0_row1\" class=\"row_heading level0 row1\" >dummy</th>\n",
       "      <td id=\"T_8429c_row1_col0\" class=\"data row1 col0\" >Dummy Regressor</td>\n",
       "      <td id=\"T_8429c_row1_col1\" class=\"data row1 col1\" >3.0292</td>\n",
       "      <td id=\"T_8429c_row1_col2\" class=\"data row1 col2\" >13.8133</td>\n",
       "      <td id=\"T_8429c_row1_col3\" class=\"data row1 col3\" >3.5616</td>\n",
       "      <td id=\"T_8429c_row1_col4\" class=\"data row1 col4\" >-0.5915</td>\n",
       "      <td id=\"T_8429c_row1_col5\" class=\"data row1 col5\" >0.4783</td>\n",
       "      <td id=\"T_8429c_row1_col6\" class=\"data row1 col6\" >0.6194</td>\n",
       "      <td id=\"T_8429c_row1_col7\" class=\"data row1 col7\" >0.0217</td>\n",
       "    </tr>\n",
       "    <tr>\n",
       "      <th id=\"T_8429c_level0_row2\" class=\"row_heading level0 row2\" >br</th>\n",
       "      <td id=\"T_8429c_row2_col0\" class=\"data row2 col0\" >Bayesian Ridge</td>\n",
       "      <td id=\"T_8429c_row2_col1\" class=\"data row2 col1\" >3.0240</td>\n",
       "      <td id=\"T_8429c_row2_col2\" class=\"data row2 col2\" >13.8617</td>\n",
       "      <td id=\"T_8429c_row2_col3\" class=\"data row2 col3\" >3.5435</td>\n",
       "      <td id=\"T_8429c_row2_col4\" class=\"data row2 col4\" >-0.5695</td>\n",
       "      <td id=\"T_8429c_row2_col5\" class=\"data row2 col5\" >0.4729</td>\n",
       "      <td id=\"T_8429c_row2_col6\" class=\"data row2 col6\" >0.6035</td>\n",
       "      <td id=\"T_8429c_row2_col7\" class=\"data row2 col7\" >0.0133</td>\n",
       "    </tr>\n",
       "    <tr>\n",
       "      <th id=\"T_8429c_level0_row3\" class=\"row_heading level0 row3\" >et</th>\n",
       "      <td id=\"T_8429c_row3_col0\" class=\"data row3 col0\" >Extra Trees Regressor</td>\n",
       "      <td id=\"T_8429c_row3_col1\" class=\"data row3 col1\" >2.9547</td>\n",
       "      <td id=\"T_8429c_row3_col2\" class=\"data row3 col2\" >13.8838</td>\n",
       "      <td id=\"T_8429c_row3_col3\" class=\"data row3 col3\" >3.6894</td>\n",
       "      <td id=\"T_8429c_row3_col4\" class=\"data row3 col4\" >-0.8181</td>\n",
       "      <td id=\"T_8429c_row3_col5\" class=\"data row3 col5\" >0.5270</td>\n",
       "      <td id=\"T_8429c_row3_col6\" class=\"data row3 col6\" >0.6207</td>\n",
       "      <td id=\"T_8429c_row3_col7\" class=\"data row3 col7\" >0.0900</td>\n",
       "    </tr>\n",
       "    <tr>\n",
       "      <th id=\"T_8429c_level0_row4\" class=\"row_heading level0 row4\" >lasso</th>\n",
       "      <td id=\"T_8429c_row4_col0\" class=\"data row4 col0\" >Lasso Regression</td>\n",
       "      <td id=\"T_8429c_row4_col1\" class=\"data row4 col1\" >3.0133</td>\n",
       "      <td id=\"T_8429c_row4_col2\" class=\"data row4 col2\" >14.2878</td>\n",
       "      <td id=\"T_8429c_row4_col3\" class=\"data row4 col3\" >3.5789</td>\n",
       "      <td id=\"T_8429c_row4_col4\" class=\"data row4 col4\" >-0.6124</td>\n",
       "      <td id=\"T_8429c_row4_col5\" class=\"data row4 col5\" >0.4722</td>\n",
       "      <td id=\"T_8429c_row4_col6\" class=\"data row4 col6\" >0.5821</td>\n",
       "      <td id=\"T_8429c_row4_col7\" class=\"data row4 col7\" >0.0133</td>\n",
       "    </tr>\n",
       "    <tr>\n",
       "      <th id=\"T_8429c_level0_row5\" class=\"row_heading level0 row5\" >llar</th>\n",
       "      <td id=\"T_8429c_row5_col0\" class=\"data row5 col0\" >Lasso Least Angle Regression</td>\n",
       "      <td id=\"T_8429c_row5_col1\" class=\"data row5 col1\" >3.0133</td>\n",
       "      <td id=\"T_8429c_row5_col2\" class=\"data row5 col2\" >14.2878</td>\n",
       "      <td id=\"T_8429c_row5_col3\" class=\"data row5 col3\" >3.5789</td>\n",
       "      <td id=\"T_8429c_row5_col4\" class=\"data row5 col4\" >-0.6124</td>\n",
       "      <td id=\"T_8429c_row5_col5\" class=\"data row5 col5\" >0.4722</td>\n",
       "      <td id=\"T_8429c_row5_col6\" class=\"data row5 col6\" >0.5821</td>\n",
       "      <td id=\"T_8429c_row5_col7\" class=\"data row5 col7\" >0.0167</td>\n",
       "    </tr>\n",
       "    <tr>\n",
       "      <th id=\"T_8429c_level0_row6\" class=\"row_heading level0 row6\" >gbr</th>\n",
       "      <td id=\"T_8429c_row6_col0\" class=\"data row6 col0\" >Gradient Boosting Regressor</td>\n",
       "      <td id=\"T_8429c_row6_col1\" class=\"data row6 col1\" >3.0491</td>\n",
       "      <td id=\"T_8429c_row6_col2\" class=\"data row6 col2\" >14.5006</td>\n",
       "      <td id=\"T_8429c_row6_col3\" class=\"data row6 col3\" >3.7851</td>\n",
       "      <td id=\"T_8429c_row6_col4\" class=\"data row6 col4\" >-0.8878</td>\n",
       "      <td id=\"T_8429c_row6_col5\" class=\"data row6 col5\" >0.5582</td>\n",
       "      <td id=\"T_8429c_row6_col6\" class=\"data row6 col6\" >0.6580</td>\n",
       "      <td id=\"T_8429c_row6_col7\" class=\"data row6 col7\" >0.0417</td>\n",
       "    </tr>\n",
       "    <tr>\n",
       "      <th id=\"T_8429c_level0_row7\" class=\"row_heading level0 row7\" >en</th>\n",
       "      <td id=\"T_8429c_row7_col0\" class=\"data row7 col0\" >Elastic Net</td>\n",
       "      <td id=\"T_8429c_row7_col1\" class=\"data row7 col1\" >3.0360</td>\n",
       "      <td id=\"T_8429c_row7_col2\" class=\"data row7 col2\" >14.5156</td>\n",
       "      <td id=\"T_8429c_row7_col3\" class=\"data row7 col3\" >3.6078</td>\n",
       "      <td id=\"T_8429c_row7_col4\" class=\"data row7 col4\" >-0.6428</td>\n",
       "      <td id=\"T_8429c_row7_col5\" class=\"data row7 col5\" >0.4749</td>\n",
       "      <td id=\"T_8429c_row7_col6\" class=\"data row7 col6\" >0.5812</td>\n",
       "      <td id=\"T_8429c_row7_col7\" class=\"data row7 col7\" >0.0133</td>\n",
       "    </tr>\n",
       "    <tr>\n",
       "      <th id=\"T_8429c_level0_row8\" class=\"row_heading level0 row8\" >ridge</th>\n",
       "      <td id=\"T_8429c_row8_col0\" class=\"data row8 col0\" >Ridge Regression</td>\n",
       "      <td id=\"T_8429c_row8_col1\" class=\"data row8 col1\" >3.0239</td>\n",
       "      <td id=\"T_8429c_row8_col2\" class=\"data row8 col2\" >14.5223</td>\n",
       "      <td id=\"T_8429c_row8_col3\" class=\"data row8 col3\" >3.6559</td>\n",
       "      <td id=\"T_8429c_row8_col4\" class=\"data row8 col4\" >-0.6335</td>\n",
       "      <td id=\"T_8429c_row8_col5\" class=\"data row8 col5\" >0.4760</td>\n",
       "      <td id=\"T_8429c_row8_col6\" class=\"data row8 col6\" >0.5599</td>\n",
       "      <td id=\"T_8429c_row8_col7\" class=\"data row8 col7\" >0.0150</td>\n",
       "    </tr>\n",
       "    <tr>\n",
       "      <th id=\"T_8429c_level0_row9\" class=\"row_heading level0 row9\" >lr</th>\n",
       "      <td id=\"T_8429c_row9_col0\" class=\"data row9 col0\" >Linear Regression</td>\n",
       "      <td id=\"T_8429c_row9_col1\" class=\"data row9 col1\" >3.0358</td>\n",
       "      <td id=\"T_8429c_row9_col2\" class=\"data row9 col2\" >14.6738</td>\n",
       "      <td id=\"T_8429c_row9_col3\" class=\"data row9 col3\" >3.6748</td>\n",
       "      <td id=\"T_8429c_row9_col4\" class=\"data row9 col4\" >-0.6454</td>\n",
       "      <td id=\"T_8429c_row9_col5\" class=\"data row9 col5\" >0.4786</td>\n",
       "      <td id=\"T_8429c_row9_col6\" class=\"data row9 col6\" >0.5590</td>\n",
       "      <td id=\"T_8429c_row9_col7\" class=\"data row9 col7\" >1.0783</td>\n",
       "    </tr>\n",
       "    <tr>\n",
       "      <th id=\"T_8429c_level0_row10\" class=\"row_heading level0 row10\" >lar</th>\n",
       "      <td id=\"T_8429c_row10_col0\" class=\"data row10 col0\" >Least Angle Regression</td>\n",
       "      <td id=\"T_8429c_row10_col1\" class=\"data row10 col1\" >3.0358</td>\n",
       "      <td id=\"T_8429c_row10_col2\" class=\"data row10 col2\" >14.6738</td>\n",
       "      <td id=\"T_8429c_row10_col3\" class=\"data row10 col3\" >3.6748</td>\n",
       "      <td id=\"T_8429c_row10_col4\" class=\"data row10 col4\" >-0.6454</td>\n",
       "      <td id=\"T_8429c_row10_col5\" class=\"data row10 col5\" >0.4786</td>\n",
       "      <td id=\"T_8429c_row10_col6\" class=\"data row10 col6\" >0.5590</td>\n",
       "      <td id=\"T_8429c_row10_col7\" class=\"data row10 col7\" >0.0150</td>\n",
       "    </tr>\n",
       "    <tr>\n",
       "      <th id=\"T_8429c_level0_row11\" class=\"row_heading level0 row11\" >catboost</th>\n",
       "      <td id=\"T_8429c_row11_col0\" class=\"data row11 col0\" >CatBoost Regressor</td>\n",
       "      <td id=\"T_8429c_row11_col1\" class=\"data row11 col1\" >3.0822</td>\n",
       "      <td id=\"T_8429c_row11_col2\" class=\"data row11 col2\" >14.6933</td>\n",
       "      <td id=\"T_8429c_row11_col3\" class=\"data row11 col3\" >3.8139</td>\n",
       "      <td id=\"T_8429c_row11_col4\" class=\"data row11 col4\" >-0.8931</td>\n",
       "      <td id=\"T_8429c_row11_col5\" class=\"data row11 col5\" >0.5433</td>\n",
       "      <td id=\"T_8429c_row11_col6\" class=\"data row11 col6\" >0.6500</td>\n",
       "      <td id=\"T_8429c_row11_col7\" class=\"data row11 col7\" >0.7350</td>\n",
       "    </tr>\n",
       "    <tr>\n",
       "      <th id=\"T_8429c_level0_row12\" class=\"row_heading level0 row12\" >omp</th>\n",
       "      <td id=\"T_8429c_row12_col0\" class=\"data row12 col0\" >Orthogonal Matching Pursuit</td>\n",
       "      <td id=\"T_8429c_row12_col1\" class=\"data row12 col1\" >3.0709</td>\n",
       "      <td id=\"T_8429c_row12_col2\" class=\"data row12 col2\" >14.8261</td>\n",
       "      <td id=\"T_8429c_row12_col3\" class=\"data row12 col3\" >3.6508</td>\n",
       "      <td id=\"T_8429c_row12_col4\" class=\"data row12 col4\" >-0.6875</td>\n",
       "      <td id=\"T_8429c_row12_col5\" class=\"data row12 col5\" >0.4797</td>\n",
       "      <td id=\"T_8429c_row12_col6\" class=\"data row12 col6\" >0.5811</td>\n",
       "      <td id=\"T_8429c_row12_col7\" class=\"data row12 col7\" >0.0150</td>\n",
       "    </tr>\n",
       "    <tr>\n",
       "      <th id=\"T_8429c_level0_row13\" class=\"row_heading level0 row13\" >lightgbm</th>\n",
       "      <td id=\"T_8429c_row13_col0\" class=\"data row13 col0\" >Light Gradient Boosting Machine</td>\n",
       "      <td id=\"T_8429c_row13_col1\" class=\"data row13 col1\" >3.1118</td>\n",
       "      <td id=\"T_8429c_row13_col2\" class=\"data row13 col2\" >14.8619</td>\n",
       "      <td id=\"T_8429c_row13_col3\" class=\"data row13 col3\" >3.6523</td>\n",
       "      <td id=\"T_8429c_row13_col4\" class=\"data row13 col4\" >-0.7000</td>\n",
       "      <td id=\"T_8429c_row13_col5\" class=\"data row13 col5\" >0.4885</td>\n",
       "      <td id=\"T_8429c_row13_col6\" class=\"data row13 col6\" >0.6167</td>\n",
       "      <td id=\"T_8429c_row13_col7\" class=\"data row13 col7\" >0.0433</td>\n",
       "    </tr>\n",
       "    <tr>\n",
       "      <th id=\"T_8429c_level0_row14\" class=\"row_heading level0 row14\" >knn</th>\n",
       "      <td id=\"T_8429c_row14_col0\" class=\"data row14 col0\" >K Neighbors Regressor</td>\n",
       "      <td id=\"T_8429c_row14_col1\" class=\"data row14 col1\" >3.2556</td>\n",
       "      <td id=\"T_8429c_row14_col2\" class=\"data row14 col2\" >15.6444</td>\n",
       "      <td id=\"T_8429c_row14_col3\" class=\"data row14 col3\" >3.7512</td>\n",
       "      <td id=\"T_8429c_row14_col4\" class=\"data row14 col4\" >-0.7737</td>\n",
       "      <td id=\"T_8429c_row14_col5\" class=\"data row14 col5\" >0.5107</td>\n",
       "      <td id=\"T_8429c_row14_col6\" class=\"data row14 col6\" >0.6596</td>\n",
       "      <td id=\"T_8429c_row14_col7\" class=\"data row14 col7\" >0.0183</td>\n",
       "    </tr>\n",
       "    <tr>\n",
       "      <th id=\"T_8429c_level0_row15\" class=\"row_heading level0 row15\" >huber</th>\n",
       "      <td id=\"T_8429c_row15_col0\" class=\"data row15 col0\" >Huber Regressor</td>\n",
       "      <td id=\"T_8429c_row15_col1\" class=\"data row15 col1\" >3.3921</td>\n",
       "      <td id=\"T_8429c_row15_col2\" class=\"data row15 col2\" >17.6948</td>\n",
       "      <td id=\"T_8429c_row15_col3\" class=\"data row15 col3\" >4.1037</td>\n",
       "      <td id=\"T_8429c_row15_col4\" class=\"data row15 col4\" >-1.1043</td>\n",
       "      <td id=\"T_8429c_row15_col5\" class=\"data row15 col5\" >0.5258</td>\n",
       "      <td id=\"T_8429c_row15_col6\" class=\"data row15 col6\" >0.6072</td>\n",
       "      <td id=\"T_8429c_row15_col7\" class=\"data row15 col7\" >0.0233</td>\n",
       "    </tr>\n",
       "    <tr>\n",
       "      <th id=\"T_8429c_level0_row16\" class=\"row_heading level0 row16\" >xgboost</th>\n",
       "      <td id=\"T_8429c_row16_col0\" class=\"data row16 col0\" >Extreme Gradient Boosting</td>\n",
       "      <td id=\"T_8429c_row16_col1\" class=\"data row16 col1\" >3.4522</td>\n",
       "      <td id=\"T_8429c_row16_col2\" class=\"data row16 col2\" >17.8792</td>\n",
       "      <td id=\"T_8429c_row16_col3\" class=\"data row16 col3\" >4.1878</td>\n",
       "      <td id=\"T_8429c_row16_col4\" class=\"data row16 col4\" >-1.2460</td>\n",
       "      <td id=\"T_8429c_row16_col5\" class=\"data row16 col5\" >0.6051</td>\n",
       "      <td id=\"T_8429c_row16_col6\" class=\"data row16 col6\" >0.6901</td>\n",
       "      <td id=\"T_8429c_row16_col7\" class=\"data row16 col7\" >0.0433</td>\n",
       "    </tr>\n",
       "    <tr>\n",
       "      <th id=\"T_8429c_level0_row17\" class=\"row_heading level0 row17\" >ada</th>\n",
       "      <td id=\"T_8429c_row17_col0\" class=\"data row17 col0\" >AdaBoost Regressor</td>\n",
       "      <td id=\"T_8429c_row17_col1\" class=\"data row17 col1\" >3.6152</td>\n",
       "      <td id=\"T_8429c_row17_col2\" class=\"data row17 col2\" >18.9531</td>\n",
       "      <td id=\"T_8429c_row17_col3\" class=\"data row17 col3\" >4.2739</td>\n",
       "      <td id=\"T_8429c_row17_col4\" class=\"data row17 col4\" >-1.3615</td>\n",
       "      <td id=\"T_8429c_row17_col5\" class=\"data row17 col5\" >0.5957</td>\n",
       "      <td id=\"T_8429c_row17_col6\" class=\"data row17 col6\" >0.6814</td>\n",
       "      <td id=\"T_8429c_row17_col7\" class=\"data row17 col7\" >0.0400</td>\n",
       "    </tr>\n",
       "    <tr>\n",
       "      <th id=\"T_8429c_level0_row18\" class=\"row_heading level0 row18\" >dt</th>\n",
       "      <td id=\"T_8429c_row18_col0\" class=\"data row18 col0\" >Decision Tree Regressor</td>\n",
       "      <td id=\"T_8429c_row18_col1\" class=\"data row18 col1\" >3.8194</td>\n",
       "      <td id=\"T_8429c_row18_col2\" class=\"data row18 col2\" >22.0694</td>\n",
       "      <td id=\"T_8429c_row18_col3\" class=\"data row18 col3\" >4.5706</td>\n",
       "      <td id=\"T_8429c_row18_col4\" class=\"data row18 col4\" >-1.6885</td>\n",
       "      <td id=\"T_8429c_row18_col5\" class=\"data row18 col5\" >0.6765</td>\n",
       "      <td id=\"T_8429c_row18_col6\" class=\"data row18 col6\" >0.7158</td>\n",
       "      <td id=\"T_8429c_row18_col7\" class=\"data row18 col7\" >0.0150</td>\n",
       "    </tr>\n",
       "    <tr>\n",
       "      <th id=\"T_8429c_level0_row19\" class=\"row_heading level0 row19\" >par</th>\n",
       "      <td id=\"T_8429c_row19_col0\" class=\"data row19 col0\" >Passive Aggressive Regressor</td>\n",
       "      <td id=\"T_8429c_row19_col1\" class=\"data row19 col1\" >4.0406</td>\n",
       "      <td id=\"T_8429c_row19_col2\" class=\"data row19 col2\" >27.0730</td>\n",
       "      <td id=\"T_8429c_row19_col3\" class=\"data row19 col3\" >4.7739</td>\n",
       "      <td id=\"T_8429c_row19_col4\" class=\"data row19 col4\" >-2.3248</td>\n",
       "      <td id=\"T_8429c_row19_col5\" class=\"data row19 col5\" >0.6364</td>\n",
       "      <td id=\"T_8429c_row19_col6\" class=\"data row19 col6\" >0.7615</td>\n",
       "      <td id=\"T_8429c_row19_col7\" class=\"data row19 col7\" >0.0150</td>\n",
       "    </tr>\n",
       "  </tbody>\n",
       "</table>\n"
      ],
      "text/plain": [
       "<pandas.io.formats.style.Styler at 0x7a8cfe1941f0>"
      ]
     },
     "metadata": {},
     "output_type": "display_data"
    },
    {
     "data": {
      "application/vnd.jupyter.widget-view+json": {
       "model_id": "68693be1a9b441e0837cf7336921440b",
       "version_major": 2,
       "version_minor": 0
      },
      "text/plain": [
       "Processing:   0%|          | 0/85 [00:00<?, ?it/s]"
      ]
     },
     "metadata": {},
     "output_type": "display_data"
    }
   ],
   "source": [
    "best_model = compare_models(sort = 'MSE')"
   ]
  },
  {
   "cell_type": "markdown",
   "id": "2bf2a531",
   "metadata": {
    "papermill": {
     "duration": 0.026839,
     "end_time": "2024-08-15T12:22:09.161698",
     "exception": false,
     "start_time": "2024-08-15T12:22:09.134859",
     "status": "completed"
    },
    "tags": []
   },
   "source": [
    "## Validating predictions"
   ]
  },
  {
   "cell_type": "code",
   "execution_count": 13,
   "id": "db4e625f",
   "metadata": {
    "execution": {
     "iopub.execute_input": "2024-08-15T12:22:09.218426Z",
     "iopub.status.busy": "2024-08-15T12:22:09.218018Z",
     "iopub.status.idle": "2024-08-15T12:22:09.233738Z",
     "shell.execute_reply": "2024-08-15T12:22:09.232436Z"
    },
    "papermill": {
     "duration": 0.048044,
     "end_time": "2024-08-15T12:22:09.236374",
     "exception": false,
     "start_time": "2024-08-15T12:22:09.188330",
     "status": "completed"
    },
    "tags": []
   },
   "outputs": [
    {
     "data": {
      "text/html": [
       "<div>\n",
       "<style scoped>\n",
       "    .dataframe tbody tr th:only-of-type {\n",
       "        vertical-align: middle;\n",
       "    }\n",
       "\n",
       "    .dataframe tbody tr th {\n",
       "        vertical-align: top;\n",
       "    }\n",
       "\n",
       "    .dataframe thead th {\n",
       "        text-align: right;\n",
       "    }\n",
       "</style>\n",
       "<table border=\"1\" class=\"dataframe\">\n",
       "  <thead>\n",
       "    <tr style=\"text-align: right;\">\n",
       "      <th></th>\n",
       "      <th>month</th>\n",
       "      <th>day</th>\n",
       "    </tr>\n",
       "  </thead>\n",
       "  <tbody>\n",
       "    <tr>\n",
       "      <th>0</th>\n",
       "      <td>7</td>\n",
       "      <td>1</td>\n",
       "    </tr>\n",
       "    <tr>\n",
       "      <th>1</th>\n",
       "      <td>7</td>\n",
       "      <td>2</td>\n",
       "    </tr>\n",
       "    <tr>\n",
       "      <th>2</th>\n",
       "      <td>7</td>\n",
       "      <td>3</td>\n",
       "    </tr>\n",
       "    <tr>\n",
       "      <th>3</th>\n",
       "      <td>7</td>\n",
       "      <td>4</td>\n",
       "    </tr>\n",
       "    <tr>\n",
       "      <th>4</th>\n",
       "      <td>7</td>\n",
       "      <td>5</td>\n",
       "    </tr>\n",
       "  </tbody>\n",
       "</table>\n",
       "</div>"
      ],
      "text/plain": [
       "   month  day\n",
       "0      7    1\n",
       "1      7    2\n",
       "2      7    3\n",
       "3      7    4\n",
       "4      7    5"
      ]
     },
     "execution_count": 13,
     "metadata": {},
     "output_type": "execute_result"
    }
   ],
   "source": [
    "validation_dates = pd.date_range(start = '2024-07-01', end = '2024-07-26', freq = 'D')\n",
    "val_df = pd.DataFrame()\n",
    "val_df['month'] = [i.month for i in validation_dates]\n",
    "val_df['day'] = [i.day for i in validation_dates]\n",
    "val_df.head()"
   ]
  },
  {
   "cell_type": "code",
   "execution_count": 14,
   "id": "d646b0d9",
   "metadata": {
    "execution": {
     "iopub.execute_input": "2024-08-15T12:22:09.292712Z",
     "iopub.status.busy": "2024-08-15T12:22:09.292315Z",
     "iopub.status.idle": "2024-08-15T12:22:09.527546Z",
     "shell.execute_reply": "2024-08-15T12:22:09.526125Z"
    },
    "papermill": {
     "duration": 0.266722,
     "end_time": "2024-08-15T12:22:09.530733",
     "exception": false,
     "start_time": "2024-08-15T12:22:09.264011",
     "status": "completed"
    },
    "tags": []
   },
   "outputs": [
    {
     "data": {
      "text/html": [],
      "text/plain": [
       "<IPython.core.display.HTML object>"
      ]
     },
     "metadata": {},
     "output_type": "display_data"
    },
    {
     "data": {
      "text/html": [
       "<div>\n",
       "<style scoped>\n",
       "    .dataframe tbody tr th:only-of-type {\n",
       "        vertical-align: middle;\n",
       "    }\n",
       "\n",
       "    .dataframe tbody tr th {\n",
       "        vertical-align: top;\n",
       "    }\n",
       "\n",
       "    .dataframe thead th {\n",
       "        text-align: right;\n",
       "    }\n",
       "</style>\n",
       "<table border=\"1\" class=\"dataframe\">\n",
       "  <thead>\n",
       "    <tr style=\"text-align: right;\">\n",
       "      <th></th>\n",
       "      <th>month</th>\n",
       "      <th>day</th>\n",
       "      <th>prediction_label</th>\n",
       "    </tr>\n",
       "  </thead>\n",
       "  <tbody>\n",
       "    <tr>\n",
       "      <th>0</th>\n",
       "      <td>7</td>\n",
       "      <td>1</td>\n",
       "      <td>6.30</td>\n",
       "    </tr>\n",
       "    <tr>\n",
       "      <th>1</th>\n",
       "      <td>7</td>\n",
       "      <td>2</td>\n",
       "      <td>6.30</td>\n",
       "    </tr>\n",
       "    <tr>\n",
       "      <th>2</th>\n",
       "      <td>7</td>\n",
       "      <td>3</td>\n",
       "      <td>4.71</td>\n",
       "    </tr>\n",
       "    <tr>\n",
       "      <th>3</th>\n",
       "      <td>7</td>\n",
       "      <td>4</td>\n",
       "      <td>4.77</td>\n",
       "    </tr>\n",
       "    <tr>\n",
       "      <th>4</th>\n",
       "      <td>7</td>\n",
       "      <td>5</td>\n",
       "      <td>8.08</td>\n",
       "    </tr>\n",
       "  </tbody>\n",
       "</table>\n",
       "</div>"
      ],
      "text/plain": [
       "   month  day  prediction_label\n",
       "0      7    1              6.30\n",
       "1      7    2              6.30\n",
       "2      7    3              4.71\n",
       "3      7    4              4.77\n",
       "4      7    5              8.08"
      ]
     },
     "execution_count": 14,
     "metadata": {},
     "output_type": "execute_result"
    }
   ],
   "source": [
    "# Predictions\n",
    "predictions_val = predict_model(best_model, data=val_df)\n",
    "predictions_val.head()"
   ]
  },
  {
   "cell_type": "code",
   "execution_count": 15,
   "id": "3dc132ad",
   "metadata": {
    "execution": {
     "iopub.execute_input": "2024-08-15T12:22:09.590104Z",
     "iopub.status.busy": "2024-08-15T12:22:09.589654Z",
     "iopub.status.idle": "2024-08-15T12:22:09.597728Z",
     "shell.execute_reply": "2024-08-15T12:22:09.596185Z"
    },
    "papermill": {
     "duration": 0.039409,
     "end_time": "2024-08-15T12:22:09.600481",
     "exception": false,
     "start_time": "2024-08-15T12:22:09.561072",
     "status": "completed"
    },
    "tags": []
   },
   "outputs": [
    {
     "name": "stdout",
     "output_type": "stream",
     "text": [
      "227.32999999999998\n"
     ]
    }
   ],
   "source": [
    "print(predictions_val['prediction_label'].sum())"
   ]
  },
  {
   "cell_type": "code",
   "execution_count": 16,
   "id": "08a7a988",
   "metadata": {
    "execution": {
     "iopub.execute_input": "2024-08-15T12:22:09.659272Z",
     "iopub.status.busy": "2024-08-15T12:22:09.658043Z",
     "iopub.status.idle": "2024-08-15T12:22:09.668403Z",
     "shell.execute_reply": "2024-08-15T12:22:09.667224Z"
    },
    "papermill": {
     "duration": 0.042478,
     "end_time": "2024-08-15T12:22:09.670853",
     "exception": false,
     "start_time": "2024-08-15T12:22:09.628375",
     "status": "completed"
    },
    "tags": []
   },
   "outputs": [],
   "source": [
    "# To make nice plots, it's necessarry to do this\n",
    "\n",
    "# Converting to a larger integer type to avoid overflow\n",
    "predictions_val['month'] = predictions_val['month'].astype('int32')\n",
    "predictions_val['day'] = predictions_val['day'].astype('int32')\n",
    "\n",
    "# Create a new column for continuous days\n",
    "coffee_clean['continuous_day'] = coffee_clean['month'] * 30 + coffee_clean['day']\n",
    "predictions_val['continuous_day'] = predictions_val['month'] * 30 + predictions_val['day']"
   ]
  },
  {
   "cell_type": "code",
   "execution_count": 17,
   "id": "20ca2bca",
   "metadata": {
    "execution": {
     "iopub.execute_input": "2024-08-15T12:22:09.728187Z",
     "iopub.status.busy": "2024-08-15T12:22:09.726721Z",
     "iopub.status.idle": "2024-08-15T12:22:10.229921Z",
     "shell.execute_reply": "2024-08-15T12:22:10.228643Z"
    },
    "papermill": {
     "duration": 0.534326,
     "end_time": "2024-08-15T12:22:10.232453",
     "exception": false,
     "start_time": "2024-08-15T12:22:09.698127",
     "status": "completed"
    },
    "tags": []
   },
   "outputs": [
    {
     "data": {
      "text/plain": [
       "<matplotlib.legend.Legend at 0x7a8cfe47e950>"
      ]
     },
     "execution_count": 17,
     "metadata": {},
     "output_type": "execute_result"
    },
    {
     "data": {
      "image/png": "[encoded data removed]",
      "text/plain": [
       "<Figure size 1200x600 with 1 Axes>"
      ]
     },
     "metadata": {},
     "output_type": "display_data"
    }
   ],
   "source": [
    "# Plotting the predictions\n",
    "\n",
    "fig = plt.figure(figsize=(12,6))\n",
    "ax = fig.add_axes([0, 0, 1, 1])\n",
    "ax.plot(coffee_clean['continuous_day'], coffee_clean['coffee'], label='Coffee demand')\n",
    "ax.plot(predictions_val['continuous_day'], predictions_val['prediction_label'], label='Coffee demand predictions')\n",
    "plt.xlabel('Days')\n",
    "plt.ylabel('Number of coffee shots needed')\n",
    "plt.grid(True)\n",
    "ax.legend(loc=0)"
   ]
  },
  {
   "cell_type": "code",
   "execution_count": 18,
   "id": "264905c7",
   "metadata": {
    "execution": {
     "iopub.execute_input": "2024-08-15T12:22:10.294532Z",
     "iopub.status.busy": "2024-08-15T12:22:10.294086Z",
     "iopub.status.idle": "2024-08-15T12:22:10.304845Z",
     "shell.execute_reply": "2024-08-15T12:22:10.303641Z"
    },
    "papermill": {
     "duration": 0.045141,
     "end_time": "2024-08-15T12:22:10.307276",
     "exception": false,
     "start_time": "2024-08-15T12:22:10.262135",
     "status": "completed"
    },
    "tags": []
   },
   "outputs": [
    {
     "name": "stdout",
     "output_type": "stream",
     "text": [
      "Consumption for July: \n",
      "217.0\n",
      "\n",
      "\n",
      "Predicted consumption for July: \n",
      "227.32999999999998\n"
     ]
    }
   ],
   "source": [
    "print(\"Consumption for July: \")\n",
    "print(coffee[coffee['month']==7]['coffee'].sum())\n",
    "print('\\n')\n",
    "print(\"Predicted consumption for July: \")\n",
    "print(predictions_val['prediction_label'].sum())"
   ]
  }
 ],
 "metadata": {
  "kaggle": {
   "accelerator": "none",
   "dataSources": [
    {
     "databundleVersionId": 9317971,
     "datasetId": 5328600,
     "sourceId": 9139469,
     "sourceType": "datasetVersion"
    }
   ],
   "dockerImageVersionId": 30746,
   "isGpuEnabled": false,
   "isInternetEnabled": true,
   "language": "python",
   "sourceType": "notebook"
  },
  "kernelspec": {
   "display_name": "Python 3",
   "language": "python",
   "name": "python3"
  },
  "language_info": {
   "codemirror_mode": {
    "name": "ipython",
    "version": 3
   },
   "file_extension": ".py",
   "mimetype": "text/x-python",
   "name": "python",
   "nbconvert_exporter": "python",
   "pygments_lexer": "ipython3",
   "version": "3.10.13"
  },
  "papermill": {
   "default_parameters": {},
   "duration": 94.634036,
   "end_time": "2024-08-15T12:22:12.960391",
   "environment_variables": {},
   "exception": null,
   "input_path": "__notebook__.ipynb",
   "output_path": "__notebook__.ipynb",
   "parameters": {},
   "start_time": "2024-08-15T12:20:38.326355",
   "version": "2.5.0"
  },
  "widgets": {
   "application/vnd.jupyter.widget-state+json": {
    "state": {
     "3fa6319c3cfa4e54b2adc4b2c543597a": {
      "model_module": "@jupyter-widgets/controls",
      "model_module_version": "1.5.0",
      "model_name": "DescriptionStyleModel",
      "state": {
       "_model_module": "@jupyter-widgets/controls",
       "_model_module_version": "1.5.0",
       "_model_name": "DescriptionStyleModel",
       "_view_count": null,
       "_view_module": "@jupyter-widgets/base",
       "_view_module_version": "1.2.0",
       "_view_name": "StyleView",
       "description_width": ""
      }
     },
     "5a93e61b01484cc4b07996468716dd59": {
      "model_module": "@jupyter-widgets/base",
      "model_module_version": "1.2.0",
      "model_name": "LayoutModel",
      "state": {
       "_model_module": "@jupyter-widgets/base",
       "_model_module_version": "1.2.0",
       "_model_name": "LayoutModel",
       "_view_count": null,
       "_view_module": "@jupyter-widgets/base",
       "_view_module_version": "1.2.0",
       "_view_name": "LayoutView",
       "align_content": null,
       "align_items": null,
       "align_self": null,
       "border": null,
       "bottom": null,
       "display": null,
       "flex": null,
       "flex_flow": null,
       "grid_area": null,
       "grid_auto_columns": null,
       "grid_auto_flow": null,
       "grid_auto_rows": null,
       "grid_column": null,
       "grid_gap": null,
       "grid_row": null,
       "grid_template_areas": null,
       "grid_template_columns": null,
       "grid_template_rows": null,
       "height": null,
       "justify_content": null,
       "justify_items": null,
       "left": null,
       "margin": null,
       "max_height": null,
       "max_width": null,
       "min_height": null,
       "min_width": null,
       "object_fit": null,
       "object_position": null,
       "order": null,
       "overflow": null,
       "overflow_x": null,
       "overflow_y": null,
       "padding": null,
       "right": null,
       "top": null,
       "visibility": null,
       "width": null
      }
     },
     "60c05ddb390d437b9669ade87aa2f24a": {
      "model_module": "@jupyter-widgets/controls",
      "model_module_version": "1.5.0",
      "model_name": "FloatProgressModel",
      "state": {
       "_dom_classes": [],
       "_model_module": "@jupyter-widgets/controls",
       "_model_module_version": "1.5.0",
       "_model_name": "FloatProgressModel",
       "_view_count": null,
       "_view_module": "@jupyter-widgets/controls",
       "_view_module_version": "1.5.0",
       "_view_name": "ProgressView",
       "bar_style": "",
       "description": "",
       "description_tooltip": null,
       "layout": "IPY_MODEL_df982e976e7d4e07b57f41c71f5a1549",
       "max": 85.0,
       "min": 0.0,
       "orientation": "horizontal",
       "style": "IPY_MODEL_ac7bd61c28d74b56bbed871aa7670467",
       "value": 85.0
      }
     },
     "68693be1a9b441e0837cf7336921440b": {
      "model_module": "@jupyter-widgets/controls",
      "model_module_version": "1.5.0",
      "model_name": "HBoxModel",
      "state": {
       "_dom_classes": [],
       "_model_module": "@jupyter-widgets/controls",
       "_model_module_version": "1.5.0",
       "_model_name": "HBoxModel",
       "_view_count": null,
       "_view_module": "@jupyter-widgets/controls",
       "_view_module_version": "1.5.0",
       "_view_name": "HBoxView",
       "box_style": "",
       "children": [
        "IPY_MODEL_8a9551295e54462685b2d2720f969181",
        "IPY_MODEL_60c05ddb390d437b9669ade87aa2f24a",
        "IPY_MODEL_7437eb723fa44e4bb7633636da20ecbe"
       ],
       "layout": "IPY_MODEL_d5254fd400c84e33806a6d309537b240"
      }
     },
     "7437eb723fa44e4bb7633636da20ecbe": {
      "model_module": "@jupyter-widgets/controls",
      "model_module_version": "1.5.0",
      "model_name": "HTMLModel",
      "state": {
       "_dom_classes": [],
       "_model_module": "@jupyter-widgets/controls",
       "_model_module_version": "1.5.0",
       "_model_name": "HTMLModel",
       "_view_count": null,
       "_view_module": "@jupyter-widgets/controls",
       "_view_module_version": "1.5.0",
       "_view_name": "HTMLView",
       "description": "",
       "description_tooltip": null,
       "layout": "IPY_MODEL_f31ff799b9964a39b95288039f2a495f",
       "placeholder": "​",
       "style": "IPY_MODEL_d1da621410e44f10b1a01f10b13273fd",
       "value": " 85/85 [00:19&lt;00:00,  3.39it/s]"
      }
     },
     "8a9551295e54462685b2d2720f969181": {
      "model_module": "@jupyter-widgets/controls",
      "model_module_version": "1.5.0",
      "model_name": "HTMLModel",
      "state": {
       "_dom_classes": [],
       "_model_module": "@jupyter-widgets/controls",
       "_model_module_version": "1.5.0",
       "_model_name": "HTMLModel",
       "_view_count": null,
       "_view_module": "@jupyter-widgets/controls",
       "_view_module_version": "1.5.0",
       "_view_name": "HTMLView",
       "description": "",
       "description_tooltip": null,
       "layout": "IPY_MODEL_5a93e61b01484cc4b07996468716dd59",
       "placeholder": "​",
       "style": "IPY_MODEL_3fa6319c3cfa4e54b2adc4b2c543597a",
       "value": "Processing: 100%"
      }
     },
     "ac7bd61c28d74b56bbed871aa7670467": {
      "model_module": "@jupyter-widgets/controls",
      "model_module_version": "1.5.0",
      "model_name": "ProgressStyleModel",
      "state": {
       "_model_module": "@jupyter-widgets/controls",
       "_model_module_version": "1.5.0",
       "_model_name": "ProgressStyleModel",
       "_view_count": null,
       "_view_module": "@jupyter-widgets/base",
       "_view_module_version": "1.2.0",
       "_view_name": "StyleView",
       "bar_color": null,
       "description_width": ""
      }
     },
     "d1da621410e44f10b1a01f10b13273fd": {
      "model_module": "@jupyter-widgets/controls",
      "model_module_version": "1.5.0",
      "model_name": "DescriptionStyleModel",
      "state": {
       "_model_module": "@jupyter-widgets/controls",
       "_model_module_version": "1.5.0",
       "_model_name": "DescriptionStyleModel",
       "_view_count": null,
       "_view_module": "@jupyter-widgets/base",
       "_view_module_version": "1.2.0",
       "_view_name": "StyleView",
       "description_width": ""
      }
     },
     "d5254fd400c84e33806a6d309537b240": {
      "model_module": "@jupyter-widgets/base",
      "model_module_version": "1.2.0",
      "model_name": "LayoutModel",
      "state": {
       "_model_module": "@jupyter-widgets/base",
       "_model_module_version": "1.2.0",
       "_model_name": "LayoutModel",
       "_view_count": null,
       "_view_module": "@jupyter-widgets/base",
       "_view_module_version": "1.2.0",
       "_view_name": "LayoutView",
       "align_content": null,
       "align_items": null,
       "align_self": null,
       "border": null,
       "bottom": null,
       "display": null,
       "flex": null,
       "flex_flow": null,
       "grid_area": null,
       "grid_auto_columns": null,
       "grid_auto_flow": null,
       "grid_auto_rows": null,
       "grid_column": null,
       "grid_gap": null,
       "grid_row": null,
       "grid_template_areas": null,
       "grid_template_columns": null,
       "grid_template_rows": null,
       "height": null,
       "justify_content": null,
       "justify_items": null,
       "left": null,
       "margin": null,
       "max_height": null,
       "max_width": null,
       "min_height": null,
       "min_width": null,
       "object_fit": null,
       "object_position": null,
       "order": null,
       "overflow": null,
       "overflow_x": null,
       "overflow_y": null,
       "padding": null,
       "right": null,
       "top": null,
       "visibility": "hidden",
       "width": null
      }
     },
     "df982e976e7d4e07b57f41c71f5a1549": {
      "model_module": "@jupyter-widgets/base",
      "model_module_version": "1.2.0",
      "model_name": "LayoutModel",
      "state": {
       "_model_module": "@jupyter-widgets/base",
       "_model_module_version": "1.2.0",
       "_model_name": "LayoutModel",
       "_view_count": null,
       "_view_module": "@jupyter-widgets/base",
       "_view_module_version": "1.2.0",
       "_view_name": "LayoutView",
       "align_content": null,
       "align_items": null,
       "align_self": null,
       "border": null,
       "bottom": null,
       "display": null,
       "flex": null,
       "flex_flow": null,
       "grid_area": null,
       "grid_auto_columns": null,
       "grid_auto_flow": null,
       "grid_auto_rows": null,
       "grid_column": null,
       "grid_gap": null,
       "grid_row": null,
       "grid_template_areas": null,
       "grid_template_columns": null,
       "grid_template_rows": null,
       "height": null,
       "justify_content": null,
       "justify_items": null,
       "left": null,
       "margin": null,
       "max_height": null,
       "max_width": null,
       "min_height": null,
       "min_width": null,
       "object_fit": null,
       "object_position": null,
       "order": null,
       "overflow": null,
       "overflow_x": null,
       "overflow_y": null,
       "padding": null,
       "right": null,
       "top": null,
       "visibility": null,
       "width": null
      }
     },
     "f31ff799b9964a39b95288039f2a495f": {
      "model_module": "@jupyter-widgets/base",
      "model_module_version": "1.2.0",
      "model_name": "LayoutModel",
      "state": {
       "_model_module": "@jupyter-widgets/base",
       "_model_module_version": "1.2.0",
       "_model_name": "LayoutModel",
       "_view_count": null,
       "_view_module": "@jupyter-widgets/base",
       "_view_module_version": "1.2.0",
       "_view_name": "LayoutView",
       "align_content": null,
       "align_items": null,
       "align_self": null,
       "border": null,
       "bottom": null,
       "display": null,
       "flex": null,
       "flex_flow": null,
       "grid_area": null,
       "grid_auto_columns": null,
       "grid_auto_flow": null,
       "grid_auto_rows": null,
       "grid_column": null,
       "grid_gap": null,
       "grid_row": null,
       "grid_template_areas": null,
       "grid_template_columns": null,
       "grid_template_rows": null,
       "height": null,
       "justify_content": null,
       "justify_items": null,
       "left": null,
       "margin": null,
       "max_height": null,
       "max_width": null,
       "min_height": null,
       "min_width": null,
       "object_fit": null,
       "object_position": null,
       "order": null,
       "overflow": null,
       "overflow_x": null,
       "overflow_y": null,
       "padding": null,
       "right": null,
       "top": null,
       "visibility": null,
       "width": null
      }
     }
    },
    "version_major": 2,
    "version_minor": 0
   }
  }
 },
 "nbformat": 4,
 "nbformat_minor": 5
}
